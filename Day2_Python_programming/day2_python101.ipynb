{
 "cells": [
  {
   "cell_type": "markdown",
   "id": "52f4cea6",
   "metadata": {},
   "source": [
    "# PYTHON PROGRAMMING"
   ]
  },
  {
   "cell_type": "markdown",
   "id": "64a415d0",
   "metadata": {},
   "source": [
    "## I. Python Hello World"
   ]
  },
  {
   "cell_type": "code",
   "execution_count": 4,
   "id": "5423c5b5",
   "metadata": {},
   "outputs": [
    {
     "name": "stdout",
     "output_type": "stream",
     "text": [
      "Hello World\n"
     ]
    }
   ],
   "source": [
    "from IPython.display import display\n",
    "print(\"Hello World\") "
   ]
  },
  {
   "cell_type": "markdown",
   "id": "3ae7b5f6",
   "metadata": {},
   "source": [
    "## II. Python Syntax"
   ]
  },
  {
   "cell_type": "markdown",
   "id": "76c03758",
   "metadata": {},
   "source": [
    "### 1. comment"
   ]
  },
  {
   "cell_type": "code",
   "execution_count": null,
   "id": "f6113661",
   "metadata": {},
   "outputs": [
    {
     "name": "stdout",
     "output_type": "stream",
     "text": [
      "Hello World\n"
     ]
    }
   ],
   "source": [
    "print(\"Hello World\") # This is comment not show when run"
   ]
  },
  {
   "cell_type": "markdown",
   "id": "ed37af7a",
   "metadata": {},
   "source": [
    "### 2. Indentation"
   ]
  },
  {
   "cell_type": "code",
   "execution_count": 3,
   "id": "ba973ff0",
   "metadata": {},
   "outputs": [
    {
     "name": "stdout",
     "output_type": "stream",
     "text": [
      "Pass\n"
     ]
    }
   ],
   "source": [
    "score = 80\n",
    "if score >=60:\n",
    "    print(\"Pass\")"
   ]
  },
  {
   "cell_type": "markdown",
   "id": "e6e1b51e",
   "metadata": {},
   "source": [
    "### 3. Variables"
   ]
  },
  {
   "cell_type": "code",
   "execution_count": 10,
   "id": "5029cd95",
   "metadata": {},
   "outputs": [
    {
     "name": "stdout",
     "output_type": "stream",
     "text": [
      "<class 'float'>\n",
      "<class 'str'>\n",
      "<class 'str'>\n"
     ]
    }
   ],
   "source": [
    "x = 2\n",
    "price = 2.5\n",
    "print(type(price)) \n",
    "word = 'Hello'\n",
    "print(type(word))\n",
    "word = 'Hello'\n",
    "word = \"Hello\"\n",
    "word = '''Hello'''\n",
    "print(type(word))"
   ]
  },
  {
   "cell_type": "code",
   "execution_count": 14,
   "id": "131a16ef",
   "metadata": {},
   "outputs": [
    {
     "data": {
      "text/plain": [
       "2"
      ]
     },
     "metadata": {},
     "output_type": "display_data"
    },
    {
     "data": {
      "text/plain": [
       "int"
      ]
     },
     "metadata": {},
     "output_type": "display_data"
    },
    {
     "data": {
      "text/plain": [
       "3"
      ]
     },
     "metadata": {},
     "output_type": "display_data"
    },
    {
     "data": {
      "text/plain": [
       "int"
      ]
     },
     "metadata": {},
     "output_type": "display_data"
    }
   ],
   "source": [
    "x = 2\n",
    "display(x)\n",
    "display(type(x))\n",
    "y = x + 1\n",
    "display(y)\n",
    "display(type(y))"
   ]
  },
  {
   "cell_type": "markdown",
   "id": "77ca635c",
   "metadata": {},
   "source": [
    "### 4. Version"
   ]
  },
  {
   "cell_type": "code",
   "execution_count": 15,
   "id": "796cb3ba",
   "metadata": {},
   "outputs": [
    {
     "name": "stdout",
     "output_type": "stream",
     "text": [
      "Python Version: 3.13.1\n"
     ]
    }
   ],
   "source": [
    "from platform import python_version\n",
    "print(\"Python Version:\", python_version()) # show python version"
   ]
  },
  {
   "cell_type": "markdown",
   "id": "47110af7",
   "metadata": {},
   "source": [
    "### 5. Data Types"
   ]
  },
  {
   "cell_type": "code",
   "execution_count": 17,
   "id": "1e013d40",
   "metadata": {},
   "outputs": [
    {
     "name": "stdout",
     "output_type": "stream",
     "text": [
      "<class 'str'>\n",
      "<class 'int'>\n",
      "<class 'float'>\n",
      "<class 'complex'>\n"
     ]
    }
   ],
   "source": [
    "x = \"Hello World\" \n",
    "print(type(x))\n",
    "x = 2 #int\n",
    "print(type(x))\n",
    "x = 2.5 #float\n",
    "print(type(x))\n",
    "x = 7j #complex\n",
    "print(type(x))"
   ]
  },
  {
   "cell_type": "code",
   "execution_count": 18,
   "id": "89359ef3",
   "metadata": {},
   "outputs": [
    {
     "name": "stdout",
     "output_type": "stream",
     "text": [
      "<class 'list'>\n",
      "<class 'tuple'>\n",
      "<class 'range'>\n",
      "<class 'dict'>\n",
      "<class 'set'>\n",
      "<class 'frozenset'>\n"
     ]
    }
   ],
   "source": [
    "x = [\"apple\", \"banana\", \"cherry\"] #list\n",
    "print(type(x))\n",
    "x = (\"apple\", \"banana\", \"cherry\") #tuple khong co the thay doi\n",
    "print(type(x))\n",
    "x = range(6) #range\n",
    "print(type(x))\n",
    "x = {\"name\" : \"Tom\", \"age\" : 20} #dict\n",
    "print(type(x))\n",
    "x = {\"apple\", \"banana\", \"cherry\"} #set\n",
    "print(type(x))\n",
    "x = frozenset({\"apple\", \"banana\", \"cherry\"})\n",
    "print(type(x))"
   ]
  },
  {
   "cell_type": "code",
   "execution_count": 19,
   "id": "a4ff774e",
   "metadata": {},
   "outputs": [
    {
     "name": "stdout",
     "output_type": "stream",
     "text": [
      "<class 'bool'>\n",
      "<class 'bytes'>\n",
      "<class 'bytearray'>\n",
      "<class 'memoryview'>\n",
      "<class 'NoneType'>\n"
     ]
    }
   ],
   "source": [
    "x = True #bool\n",
    "print(type(x))\n",
    "x = b\"Hello\" #bytes\n",
    "print(type(x))\n",
    "x = bytearray(5) #bytearray\n",
    "print(type(x))\n",
    "x = memoryview(bytes(5)) #memoryview\n",
    "print(type(x))\n",
    "x = None #NoneType\n",
    "print(type(x))"
   ]
  },
  {
   "cell_type": "markdown",
   "id": "f348d950",
   "metadata": {},
   "source": [
    "### 6. Casting"
   ]
  },
  {
   "cell_type": "code",
   "execution_count": 23,
   "id": "89d1a85d",
   "metadata": {},
   "outputs": [
    {
     "data": {
      "text/plain": [
       "'3'"
      ]
     },
     "metadata": {},
     "output_type": "display_data"
    },
    {
     "data": {
      "text/plain": [
       "3"
      ]
     },
     "metadata": {},
     "output_type": "display_data"
    },
    {
     "data": {
      "text/plain": [
       "3.0"
      ]
     },
     "metadata": {},
     "output_type": "display_data"
    },
    {
     "name": "stdout",
     "output_type": "stream",
     "text": [
      "3 <class 'str'>\n",
      "3 <class 'int'>\n",
      "3.0 <class 'float'>\n"
     ]
    }
   ],
   "source": [
    "x = str(3) # x will be '3'\n",
    "display(x)\n",
    "y = int(3) # y will be 3\n",
    "display(y)\n",
    "z = float(3) # z will be 3.0\n",
    "display(z)\n",
    "print(x, type(x))\n",
    "print(y, type(y))\n",
    "print(z, type(z))"
   ]
  },
  {
   "cell_type": "markdown",
   "id": "eba22c7b",
   "metadata": {},
   "source": [
    "### 7. Numbers"
   ]
  },
  {
   "cell_type": "code",
   "execution_count": 25,
   "id": "a3ff1cb3",
   "metadata": {},
   "outputs": [
    {
     "data": {
      "text/plain": [
       "2"
      ]
     },
     "metadata": {},
     "output_type": "display_data"
    },
    {
     "data": {
      "text/plain": [
       "3.4"
      ]
     },
     "metadata": {},
     "output_type": "display_data"
    },
    {
     "data": {
      "text/plain": [
       "7j"
      ]
     },
     "metadata": {},
     "output_type": "display_data"
    },
    {
     "name": "stdout",
     "output_type": "stream",
     "text": [
      "2 <class 'int'>\n",
      "3.4 <class 'float'>\n",
      "7j <class 'complex'>\n"
     ]
    }
   ],
   "source": [
    "x = 2 # int\n",
    "display(x)\n",
    "y = 3.4 # float\n",
    "display(y)\n",
    "z = 7j #complex\n",
    "display(z)\n",
    "print(x, type(x))\n",
    "print(y, type(y))\n",
    "print(z, type(z))"
   ]
  },
  {
   "cell_type": "markdown",
   "id": "a9a43493",
   "metadata": {},
   "source": [
    "### 8. Arithmetic Operators And Basic Operators"
   ]
  },
  {
   "cell_type": "code",
   "execution_count": 28,
   "id": "03abf8ba",
   "metadata": {},
   "outputs": [
    {
     "name": "stdout",
     "output_type": "stream",
     "text": [
      "7\n",
      "3\n",
      "10\n",
      "2.5\n",
      "2\n",
      "1\n",
      "25\n"
     ]
    }
   ],
   "source": [
    "# addition\n",
    "print(5 + 2) \n",
    "# subtraction\n",
    "print(5 - 2)\n",
    "# multiplication\n",
    "print(5 * 2)\n",
    "# division\n",
    "print(5 / 2)\n",
    "# floor division\n",
    "print(5 // 2)\n",
    "# modulus\n",
    "print(5 % 2) \n",
    "# exponentiation   \n",
    "print(5 ** 2)   # 5^2"
   ]
  },
  {
   "cell_type": "code",
   "execution_count": 30,
   "id": "8fc9016f",
   "metadata": {},
   "outputs": [
    {
     "name": "stdout",
     "output_type": "stream",
     "text": [
      "7 + 2 = 9\n",
      "7 - 2 = 5\n",
      "7 * 2 = 14\n",
      "7 / 2 = 3.5\n",
      "7 // 2 = 3\n",
      "7 % 2 = 1\n",
      "7 ** 2 = 49\n"
     ]
    }
   ],
   "source": [
    "print('7 + 2 =', 7 + 2)\n",
    "print('7 - 2 =', 7 - 2)\n",
    "print('7 * 2 =', 7 * 2)\n",
    "print('7 / 2 =', 7 / 2)\n",
    "print('7 // 2 =', 7 // 2)\n",
    "print('7 % 2 =', 7 % 2)\n",
    "print('7 ** 2 =', 7 ** 2)"
   ]
  },
  {
   "cell_type": "code",
   "execution_count": 31,
   "id": "889a448b",
   "metadata": {},
   "outputs": [],
   "source": [
    "### 8. True or False"
   ]
  },
  {
   "cell_type": "code",
   "execution_count": 32,
   "id": "79664501",
   "metadata": {},
   "outputs": [
    {
     "name": "stdout",
     "output_type": "stream",
     "text": [
      "True\n",
      "False\n",
      "False\n"
     ]
    }
   ],
   "source": [
    "print(3 > 2)\n",
    "print(3 == 2)\n",
    "print(3 < 2)"
   ]
  },
  {
   "cell_type": "markdown",
   "id": "ad5c798f",
   "metadata": {},
   "source": [
    "- BMI Calculator"
   ]
  },
  {
   "cell_type": "code",
   "execution_count": 34,
   "id": "f8b6f8a5",
   "metadata": {},
   "outputs": [
    {
     "name": "stdout",
     "output_type": "stream",
     "text": [
      "Your BMI is: 26.6\n"
     ]
    }
   ],
   "source": [
    "height_cm = 170\n",
    "weight_kg = 77\n",
    "height_m = height_cm/100\n",
    "BMI = (weight_kg/(height_m**2))\n",
    "\n",
    "print(\"Your BMI is: \" + str(round(BMI,1)))"
   ]
  },
  {
   "cell_type": "markdown",
   "id": "d32dd04f",
   "metadata": {},
   "source": [
    "How much is your $100 worth after 7 years?"
   ]
  },
  {
   "cell_type": "code",
   "execution_count": 35,
   "id": "02459663",
   "metadata": {},
   "outputs": [
    {
     "name": "stdout",
     "output_type": "stream",
     "text": [
      "fv =  194.87\n"
     ]
    }
   ],
   "source": [
    "fv = 100 * 1.1 ** 7 # 1.1 lai suat nam (10%)\n",
    "print('fv = ', round(fv, 2))"
   ]
  },
  {
   "cell_type": "markdown",
   "id": "1c7a7c3d",
   "metadata": {},
   "source": [
    "Future Value"
   ]
  },
  {
   "cell_type": "code",
   "execution_count": 37,
   "id": "7bcee0e5",
   "metadata": {},
   "outputs": [
    {
     "name": "stdout",
     "output_type": "stream",
     "text": [
      "194.87\n"
     ]
    }
   ],
   "source": [
    "pv = 100 #pv = present value\n",
    "r = 0.1 # r = interest rate\n",
    "n = 7 # n = number of years\n",
    "fv = pv * ((1 + (r)) ** n)\n",
    "print(round(fv, 2))"
   ]
  },
  {
   "cell_type": "code",
   "execution_count": 38,
   "id": "d1bff4a3",
   "metadata": {},
   "outputs": [
    {
     "name": "stdout",
     "output_type": "stream",
     "text": [
      "194.87\n"
     ]
    }
   ],
   "source": [
    "amount = 100 # pv\n",
    "interest = 10 #r\n",
    "years = 7 #n\n",
    "\n",
    "future_value = amount * ((1 + (0.01 * interest)) ** years)\n",
    "print(round(future_value, 2))"
   ]
  },
  {
   "cell_type": "markdown",
   "id": "4f97d438",
   "metadata": {},
   "source": [
    "### 9. Collections"
   ]
  },
  {
   "cell_type": "markdown",
   "id": "d575f42b",
   "metadata": {},
   "source": [
    "#### 9.1. Lists []\n"
   ]
  },
  {
   "cell_type": "markdown",
   "id": "42a995f4",
   "metadata": {},
   "source": [
    "- List []: Có thứ tự và thay đổi được, cho phép trùng lặp. Dùng khi cần danh sách có vị trí/index, thêm–xóa–sửa tự do."
   ]
  },
  {
   "cell_type": "code",
   "execution_count": 40,
   "id": "86d92780",
   "metadata": {},
   "outputs": [
    {
     "name": "stdout",
     "output_type": "stream",
     "text": [
      "4\n",
      "60\n",
      "70\n",
      "90\n"
     ]
    }
   ],
   "source": [
    "x = [60, 70, 80, 90]\n",
    "print(len(x))\n",
    "print(x[0])\n",
    "print(x[1])\n",
    "print(x[-1])"
   ]
  },
  {
   "cell_type": "markdown",
   "id": "a681683c",
   "metadata": {},
   "source": [
    "#### 9.2. Tuple ()\n"
   ]
  },
  {
   "cell_type": "markdown",
   "id": "cb6e08a9",
   "metadata": {},
   "source": [
    " - Tuple (): có thứ tự, không thay đổi (immutable), cho phép trùng phần tử. Dùng cho gói dữ liệu “bất biến” (tọa độ, record cố định), dùng làm key trong dict nếu toàn bộ phần tử hashable."
   ]
  },
  {
   "cell_type": "code",
   "execution_count": 42,
   "id": "d20c37f5",
   "metadata": {},
   "outputs": [
    {
     "name": "stdout",
     "output_type": "stream",
     "text": [
      "10\n",
      "20\n",
      "30\n",
      "50\n"
     ]
    }
   ],
   "source": [
    "x = (10, 20, 30, 40, 50)\n",
    "print(x[0])\n",
    "print(x[1])\n",
    "print(x[2])\n",
    "print(x[-1])"
   ]
  },
  {
   "cell_type": "markdown",
   "id": "f3fe3a5f",
   "metadata": {},
   "source": [
    "#### 9.2. Sets {}"
   ]
  },
  {
   "cell_type": "markdown",
   "id": "830c44e6",
   "metadata": {},
   "source": [
    "- Là tập hợp các phần tử không trùng lặp, không có thứ tự. Dùng khi cần lưu trữ các giá trị duy nhất và các phép toán tập hợp (union, intersection…).\n",
    "\n",
    "**Lưu ý:** {} là dict rỗng, set rỗng phải tạo bằng set()."
   ]
  },
  {
   "cell_type": "code",
   "execution_count": 45,
   "id": "bdac2c60",
   "metadata": {},
   "outputs": [
    {
     "name": "stdout",
     "output_type": "stream",
     "text": [
      "True\n",
      "False\n",
      "True\n",
      "3\n",
      "3\n",
      "2\n"
     ]
    }
   ],
   "source": [
    "animals = {'cat', 'dog'}\n",
    "print('cat' in animals)\n",
    "print('fish' in animals)\n",
    "animals.add('fish') # animals = {'cat', 'dog', 'fish'}\n",
    "print('fish' in animals)\n",
    "print(len(animals))\n",
    "animals.add('cat')\n",
    "print(len(animals))\n",
    "animals.remove('cat')\n",
    "print(len(animals))"
   ]
  },
  {
   "cell_type": "markdown",
   "id": "cc4dedc0",
   "metadata": {},
   "source": [
    "#### 9.3. Dictionary {key : value}"
   ]
  },
  {
   "cell_type": "markdown",
   "id": "ee087613",
   "metadata": {},
   "source": [
    "- Là tập hợp các cặp key:value, không có thứ tự, thay đổi được, không cho phép trùng key. Dùng khi cần lưu trữ dữ liệu theo cặp key:value, truy xuất nhanh theo key."
   ]
  },
  {
   "cell_type": "code",
   "execution_count": 47,
   "id": "4b284bb7",
   "metadata": {},
   "outputs": [
    {
     "name": "stdout",
     "output_type": "stream",
     "text": [
      "English\n"
     ]
    }
   ],
   "source": [
    "k = { 'EN':'English', 'FR':'French' }\n",
    "print(k['EN'])"
   ]
  },
  {
   "cell_type": "markdown",
   "id": "c82a7eb3",
   "metadata": {},
   "source": [
    "Python for Finance Applications"
   ]
  },
  {
   "cell_type": "code",
   "execution_count": 48,
   "id": "dca65f2d",
   "metadata": {},
   "outputs": [
    {
     "name": "stdout",
     "output_type": "stream",
     "text": [
      "Total expenses: 293.5\n"
     ]
    }
   ],
   "source": [
    "# Python Lists\n",
    "expenses = [72.50, 80.75, 50.00, 90.25]\n",
    "total_expenses = sum(expenses)\n",
    "print(\"Total expenses:\", total_expenses)"
   ]
  },
  {
   "cell_type": "code",
   "execution_count": 51,
   "id": "3a0a019e",
   "metadata": {},
   "outputs": [
    {
     "name": "stdout",
     "output_type": "stream",
     "text": [
      "Account name: Cash Account number: 1001\n",
      "Account name: Accounts Receivable Account number: 1002\n",
      "Account name: Inventory Account number: 1003\n"
     ]
    }
   ],
   "source": [
    "# Python Tuples\n",
    "accounts = ((\"Cash\", 1001), (\"Accounts Receivable\", 1002), (\"Inventory\", 1003))\n",
    "for account in accounts:\n",
    "    print(\"Account name:\", account[0], \"Account number:\", account[1])"
   ]
  },
  {
   "cell_type": "code",
   "execution_count": 52,
   "id": "5425e23c",
   "metadata": {},
   "outputs": [
    {
     "name": "stdout",
     "output_type": "stream",
     "text": [
      "Account number 1004 is not in use.\n"
     ]
    }
   ],
   "source": [
    "# Python Sets\n",
    "account_numbers = {1001, 1002, 1003}\n",
    "new_account_number = 1004\n",
    "if new_account_number not in account_numbers:\n",
    "    print(\"Account number\", new_account_number, \"is not in use.\")"
   ]
  },
  {
   "cell_type": "code",
   "execution_count": 53,
   "id": "71a9de84",
   "metadata": {},
   "outputs": [
    {
     "name": "stdout",
     "output_type": "stream",
     "text": [
      "Account number: 1001\n",
      "Account name: Cash\n",
      "Account balance: 500.0\n",
      "Account type: Asset\n",
      "Account number: 1002\n",
      "Account name: Accounts Receivable\n",
      "Account balance: 1000.0\n",
      "Account type: Asset\n",
      "Account number: 2001\n",
      "Account name: Accounts Payable\n",
      "Account balance: 750.0\n",
      "Account type: Liability\n"
     ]
    }
   ],
   "source": [
    "# Python Dictionaries\n",
    "accounts = {\"1001\": {\"name\": \"Cash\", \"balance\": 500.00, \"type\": \"Asset\"},\n",
    "            \"1002\": {\"name\": \"Accounts Receivable\", \"balance\": 1000.00, \"type\": \"Asset\"},\n",
    "            \"2001\": {\"name\": \"Accounts Payable\", \"balance\": 750.00, \"type\": \"Liability\"}}\n",
    "for account_number, account_info in accounts.items():\n",
    "    print(\"Account number:\", account_number)\n",
    "    print(\"Account name:\", account_info[\"name\"])\n",
    "    print(\"Account balance:\", account_info[\"balance\"])\n",
    "    print(\"Account type:\", account_info[\"type\"])"
   ]
  },
  {
   "cell_type": "markdown",
   "id": "4b6babb2",
   "metadata": {},
   "source": [
    "### 10. Control Logic and Loops"
   ]
  },
  {
   "cell_type": "markdown",
   "id": "404a8698",
   "metadata": {},
   "source": [
    "#### 10.1. If, if else, if elif else"
   ]
  },
  {
   "cell_type": "code",
   "execution_count": 56,
   "id": "cba2c68c",
   "metadata": {},
   "outputs": [
    {
     "name": "stdout",
     "output_type": "stream",
     "text": [
      "Pass\n"
     ]
    }
   ],
   "source": [
    "# Python if\n",
    "score = 80\n",
    "if score >=60 :\n",
    "    print(\"Pass\")"
   ]
  },
  {
   "cell_type": "code",
   "execution_count": 58,
   "id": "ceafad71",
   "metadata": {},
   "outputs": [
    {
     "name": "stdout",
     "output_type": "stream",
     "text": [
      "Pass\n"
     ]
    }
   ],
   "source": [
    "# Python if else\n",
    "score = 80\n",
    "if score >=60 :\n",
    "    print(\"Pass\")\n",
    "else:\n",
    "    print(\"Fail\")"
   ]
  },
  {
   "cell_type": "code",
   "execution_count": 59,
   "id": "bbfc02f0",
   "metadata": {},
   "outputs": [
    {
     "name": "stdout",
     "output_type": "stream",
     "text": [
      "A\n"
     ]
    }
   ],
   "source": [
    "score = 95\n",
    "if score >= 90 :\n",
    "    print(\"A\")\n",
    "elif score >=60 :\n",
    "    print(\"Pass\")\n",
    "else:\n",
    "    print(\"Fail\")"
   ]
  },
  {
   "cell_type": "code",
   "execution_count": 61,
   "id": "509496c5",
   "metadata": {},
   "outputs": [
    {
     "name": "stdout",
     "output_type": "stream",
     "text": [
      "A\n"
     ]
    }
   ],
   "source": [
    "# Python if elif else\n",
    "score = 90\n",
    "grade = \"\"\n",
    "if score >=90:\n",
    "    grade = \"A\"\n",
    "elif score >= 80:\n",
    "    grade = \"B\"\n",
    "elif score >= 70:\n",
    "    grade = \"C\"\n",
    "elif score >= 60:\n",
    "    grade = \"D\"\n",
    "else:\n",
    "    grade = \"E\"\n",
    "print(grade)"
   ]
  },
  {
   "cell_type": "markdown",
   "id": "7cac64f3",
   "metadata": {},
   "source": [
    "#### 10.2. Loops"
   ]
  },
  {
   "cell_type": "markdown",
   "id": "e3f1ae40",
   "metadata": {},
   "source": [
    "##### 10.2.1 for loops"
   ]
  },
  {
   "cell_type": "code",
   "execution_count": 63,
   "id": "7959e505",
   "metadata": {},
   "outputs": [
    {
     "name": "stdout",
     "output_type": "stream",
     "text": [
      "1\n",
      "2\n",
      "3\n",
      "4\n",
      "5\n"
     ]
    }
   ],
   "source": [
    "for i in range(1,6):\n",
    "    print(i)"
   ]
  },
  {
   "cell_type": "code",
   "execution_count": 64,
   "id": "a8f897a1",
   "metadata": {},
   "outputs": [
    {
     "name": "stdout",
     "output_type": "stream",
     "text": [
      "1  *  1  =  1\n",
      "1  *  2  =  2\n",
      "1  *  3  =  3\n",
      "1  *  4  =  4\n",
      "1  *  5  =  5\n",
      "1  *  6  =  6\n",
      "1  *  7  =  7\n",
      "1  *  8  =  8\n",
      "1  *  9  =  9\n",
      "2  *  1  =  2\n",
      "2  *  2  =  4\n",
      "2  *  3  =  6\n",
      "2  *  4  =  8\n",
      "2  *  5  =  10\n",
      "2  *  6  =  12\n",
      "2  *  7  =  14\n",
      "2  *  8  =  16\n",
      "2  *  9  =  18\n",
      "3  *  1  =  3\n",
      "3  *  2  =  6\n",
      "3  *  3  =  9\n",
      "3  *  4  =  12\n",
      "3  *  5  =  15\n",
      "3  *  6  =  18\n",
      "3  *  7  =  21\n",
      "3  *  8  =  24\n",
      "3  *  9  =  27\n",
      "4  *  1  =  4\n",
      "4  *  2  =  8\n",
      "4  *  3  =  12\n",
      "4  *  4  =  16\n",
      "4  *  5  =  20\n",
      "4  *  6  =  24\n",
      "4  *  7  =  28\n",
      "4  *  8  =  32\n",
      "4  *  9  =  36\n",
      "5  *  1  =  5\n",
      "5  *  2  =  10\n",
      "5  *  3  =  15\n",
      "5  *  4  =  20\n",
      "5  *  5  =  25\n",
      "5  *  6  =  30\n",
      "5  *  7  =  35\n",
      "5  *  8  =  40\n",
      "5  *  9  =  45\n",
      "6  *  1  =  6\n",
      "6  *  2  =  12\n",
      "6  *  3  =  18\n",
      "6  *  4  =  24\n",
      "6  *  5  =  30\n",
      "6  *  6  =  36\n",
      "6  *  7  =  42\n",
      "6  *  8  =  48\n",
      "6  *  9  =  54\n",
      "7  *  1  =  7\n",
      "7  *  2  =  14\n",
      "7  *  3  =  21\n",
      "7  *  4  =  28\n",
      "7  *  5  =  35\n",
      "7  *  6  =  42\n",
      "7  *  7  =  49\n",
      "7  *  8  =  56\n",
      "7  *  9  =  63\n",
      "8  *  1  =  8\n",
      "8  *  2  =  16\n",
      "8  *  3  =  24\n",
      "8  *  4  =  32\n",
      "8  *  5  =  40\n",
      "8  *  6  =  48\n",
      "8  *  7  =  56\n",
      "8  *  8  =  64\n",
      "8  *  9  =  72\n",
      "9  *  1  =  9\n",
      "9  *  2  =  18\n",
      "9  *  3  =  27\n",
      "9  *  4  =  36\n",
      "9  *  5  =  45\n",
      "9  *  6  =  54\n",
      "9  *  7  =  63\n",
      "9  *  8  =  72\n",
      "9  *  9  =  81\n"
     ]
    }
   ],
   "source": [
    "# for loops\n",
    "for i in range(1,10):\n",
    "    for j in range(1,10):\n",
    "        print(i, ' * ' , j , ' = ', i*j)"
   ]
  },
  {
   "cell_type": "markdown",
   "id": "50932767",
   "metadata": {},
   "source": [
    "##### 10.2.2 while loops"
   ]
  },
  {
   "cell_type": "code",
   "execution_count": 65,
   "id": "82fc3907",
   "metadata": {},
   "outputs": [
    {
     "name": "stdout",
     "output_type": "stream",
     "text": [
      "10\n",
      "11\n",
      "12\n",
      "13\n",
      "14\n",
      "15\n",
      "16\n",
      "17\n",
      "18\n",
      "19\n"
     ]
    }
   ],
   "source": [
    "# while loops\n",
    "age = 10\n",
    "while age < 20:\n",
    "    print(age)\n",
    "    age = age + 1"
   ]
  },
  {
   "cell_type": "markdown",
   "id": "0ad4248a",
   "metadata": {},
   "source": [
    "### 11. Function def"
   ]
  },
  {
   "cell_type": "code",
   "execution_count": 68,
   "id": "45e058de",
   "metadata": {},
   "outputs": [
    {
     "name": "stdout",
     "output_type": "stream",
     "text": [
      "194.87\n"
     ]
    }
   ],
   "source": [
    "# Python Function def\n",
    "# indentation for blocks. four spaces\n",
    "def getfv(pv, r, n):\n",
    "    fv = pv * ((1 + (r)) ** n)\n",
    "    return fv\n",
    "fv = getfv(100, 0.1, 7)\n",
    "print(round(fv, 2))"
   ]
  },
  {
   "cell_type": "markdown",
   "id": "aa4a3806",
   "metadata": {},
   "source": [
    "### 11. Classes/Objects"
   ]
  },
  {
   "cell_type": "code",
   "execution_count": 72,
   "id": "93fa4a77",
   "metadata": {},
   "outputs": [
    {
     "name": "stdout",
     "output_type": "stream",
     "text": [
      "5\n"
     ]
    }
   ],
   "source": [
    "# Python class\n",
    "class MyClass:\n",
    "    x = 5\n",
    "c1 = MyClass()\n",
    "print(c1.x)"
   ]
  },
  {
   "cell_type": "code",
   "execution_count": 74,
   "id": "a4979ce0",
   "metadata": {},
   "outputs": [
    {
     "name": "stdout",
     "output_type": "stream",
     "text": [
      "Alan\n",
      "20\n"
     ]
    }
   ],
   "source": [
    "class Person:\n",
    "\n",
    "    def __init__(self, name, age):\n",
    "        self.name = name\n",
    "        self.age = age\n",
    "\n",
    "p1 = Person(\"Alan\", 20)\n",
    "print(p1.name)\n",
    "print(p1.age)"
   ]
  },
  {
   "cell_type": "code",
   "execution_count": 75,
   "id": "843ce91f",
   "metadata": {},
   "outputs": [
    {
     "name": "stdout",
     "output_type": "stream",
     "text": [
      "Hello my name is Alan\n"
     ]
    }
   ],
   "source": [
    "class Person:\n",
    "\n",
    "    def __init__(self, name, age):\n",
    "        self.name = name\n",
    "        self.age = age\n",
    "\n",
    "    def myfunc(self):\n",
    "        print(\"Hello my name is \" + self.name)\n",
    "\n",
    "p1 = Person(\"Alan\", 20)\n",
    "p1.myfunc()"
   ]
  },
  {
   "cell_type": "code",
   "execution_count": 76,
   "id": "46ba2f91",
   "metadata": {},
   "outputs": [
    {
     "name": "stdout",
     "output_type": "stream",
     "text": [
      "Hello my name is Alan\n",
      "Alan\n",
      "20\n"
     ]
    }
   ],
   "source": [
    "class Person:\n",
    "\n",
    "    def __init__(self, name, age):\n",
    "        self.name = name\n",
    "        self.age = age\n",
    "\n",
    "    def myfunc(self):\n",
    "        print(\"Hello my name is \" + self.name)\n",
    "\n",
    "p1 = Person(\"Alan\", 20)\n",
    "p1.myfunc()\n",
    "print(p1.name)\n",
    "print(p1.age)"
   ]
  },
  {
   "cell_type": "code",
   "execution_count": 78,
   "id": "d4e74fc8",
   "metadata": {},
   "outputs": [],
   "source": [
    "class Vehicle:\n",
    "    name = \"\"\n",
    "    kind = \"car\"\n",
    "    color = \"\"\n",
    "    value = 100.00\n",
    "    def description(self):\n",
    "        desc_str = \"%s is a %s %s worth $%.2f.\" % (self.name, self.color, self.kind, self.value)\n",
    "        return desc_str"
   ]
  },
  {
   "cell_type": "code",
   "execution_count": 79,
   "id": "30502211",
   "metadata": {},
   "outputs": [
    {
     "name": "stdout",
     "output_type": "stream",
     "text": [
      "Fer is a red convertible worth $60000.00.\n",
      "Fer\n",
      "Jump is a blue van worth $10000.00.\n",
      "Jump\n"
     ]
    }
   ],
   "source": [
    "car1 = Vehicle()\n",
    "car1.name = \"Fer\"\n",
    "car1.color = \"red\"\n",
    "car1.kind = \"convertible\"\n",
    "car1.value = 60000.00\n",
    "\n",
    "car2 = Vehicle()\n",
    "car2.name = \"Jump\"\n",
    "car2.color = \"blue\"\n",
    "car2.kind = \"van\"\n",
    "car2.value = 10000.00\n",
    "\n",
    "print(car1.description())\n",
    "print(car1.name)\n",
    "print(car2.description())\n",
    "print(car2.name)"
   ]
  },
  {
   "cell_type": "markdown",
   "id": "4a221fea",
   "metadata": {},
   "source": [
    "### 12. Modules"
   ]
  },
  {
   "cell_type": "markdown",
   "id": "da9413b6",
   "metadata": {},
   "source": [
    "- Là một file .py chứa hàm/biến/lớp để tái sử dụng"
   ]
  },
  {
   "cell_type": "code",
   "execution_count": 96,
   "id": "778ca6d9",
   "metadata": {},
   "outputs": [
    {
     "name": "stdout",
     "output_type": "stream",
     "text": [
      "Loaded from: d:\\LTT_DA\\Day2_Python_programming\\mymodule.py\n",
      "Hello, Alan\n"
     ]
    }
   ],
   "source": [
    "import mymodule\n",
    "print(\"Loaded from:\", mymodule.__file__) # Kiểm tra file đã load\n",
    "mymodule.greeting(\"Alan\")"
   ]
  },
  {
   "cell_type": "code",
   "execution_count": 97,
   "id": "9015bf08",
   "metadata": {},
   "outputs": [
    {
     "name": "stdout",
     "output_type": "stream",
     "text": [
      "Hello World\n",
      "This is Python File Input Output\n"
     ]
    }
   ],
   "source": [
    "# Python File Input / Output\n",
    "with open('myfile.txt', 'w') as file:\n",
    "    file.write('Hello World\\nThis is Python File Input Output')\n",
    "\n",
    "with open('myfile.txt', 'r') as file:\n",
    "    text = file.read()\n",
    "    print(text)"
   ]
  },
  {
   "cell_type": "code",
   "execution_count": 98,
   "id": "48bb17b1",
   "metadata": {},
   "outputs": [
    {
     "name": "stdout",
     "output_type": "stream",
     "text": [
      "mymodule.py\n",
      "def greeting(name):\n",
      "    print(\"Hello, \" + name)\n",
      "    \n"
     ]
    }
   ],
   "source": [
    "# Python File Input / Output\n",
    "filename = 'mymodule.py'\n",
    "with open(filename, 'w') as file:\n",
    "    text = '''def greeting(name):\n",
    "    print(\"Hello, \" + name)\n",
    "    '''\n",
    "    file.write(text)\n",
    "\n",
    "with open(filename, 'r') as file:\n",
    "    text = file.read()\n",
    "\n",
    "print(filename)\n",
    "print(text)"
   ]
  },
  {
   "cell_type": "code",
   "execution_count": 100,
   "id": "1785927c",
   "metadata": {},
   "outputs": [
    {
     "name": "stdout",
     "output_type": "stream",
     "text": [
      "Hello, Alan\n"
     ]
    }
   ],
   "source": [
    "# mymodule.py\n",
    "def greeting(name):\n",
    "    print(\"Hello, \" + name)\n",
    "    \n",
    "mymodule.greeting(\"Alan\")"
   ]
  },
  {
   "cell_type": "code",
   "execution_count": 102,
   "id": "e19db1ac",
   "metadata": {},
   "outputs": [
    {
     "name": "stdout",
     "output_type": "stream",
     "text": [
      "Hello World!\n"
     ]
    }
   ],
   "source": [
    "#Python main() function\n",
    "def main():\n",
    "    print(\"Hello World!\")\n",
    "\n",
    "if __name__ == \"__main__\":\n",
    "    main()"
   ]
  },
  {
   "cell_type": "markdown",
   "id": "071d372c",
   "metadata": {},
   "source": [
    "### 13. Files and Exception Handling"
   ]
  },
  {
   "cell_type": "code",
   "execution_count": 103,
   "id": "b1aa0da8",
   "metadata": {},
   "outputs": [
    {
     "name": "stdout",
     "output_type": "stream",
     "text": [
      "Hello World\n"
     ]
    }
   ],
   "source": [
    "f = open(\"myfile.txt\", \"w\")\n",
    "\n",
    "f.write(\"Hello World\")\n",
    "f.close()\n",
    "\n",
    "f = open(\"myfile.txt\", \"r\")\n",
    "\n",
    "text = f.read()\n",
    "print(text)\n",
    "f.close()"
   ]
  },
  {
   "cell_type": "code",
   "execution_count": 104,
   "id": "25d80040",
   "metadata": {},
   "outputs": [
    {
     "name": "stdout",
     "output_type": "stream",
     "text": [
      "Hello World\n"
     ]
    }
   ],
   "source": [
    "# Python File Input / Output\n",
    "with open('myfile.txt', 'w') as file:\n",
    "    file.write('Hello World')\n",
    "\n",
    "with open('myfile.txt', 'r') as file:\n",
    "    text = file.read()\n",
    "    \n",
    "print(text)"
   ]
  },
  {
   "cell_type": "code",
   "execution_count": 105,
   "id": "6c1afe74",
   "metadata": {},
   "outputs": [
    {
     "name": "stdout",
     "output_type": "stream",
     "text": [
      "Hello World\n",
      "Python File IO\n"
     ]
    }
   ],
   "source": [
    "# Python File Input / Output\n",
    "with open('myfile.txt', 'w') as file:\n",
    "    file.write('Hello World\\nPython File IO')\n",
    "\n",
    "with open('myfile.txt', 'r') as file:\n",
    "    text = file.read()\n",
    "\n",
    "print(text)"
   ]
  },
  {
   "cell_type": "code",
   "execution_count": 106,
   "id": "9ffcedcc",
   "metadata": {},
   "outputs": [
    {
     "name": "stdout",
     "output_type": "stream",
     "text": [
      "Hello World\n",
      "Python File IO\n",
      "New line\n"
     ]
    }
   ],
   "source": [
    "# Python File Input / Output\n",
    "with open('myfile.txt', 'a+') as file:\n",
    "\n",
    "    file.write('\\n' + 'New line')\n",
    "\n",
    "with open('myfile.txt', 'r') as file:\n",
    "\n",
    "    text = file.read()\n",
    "\n",
    "print(text)"
   ]
  },
  {
   "cell_type": "markdown",
   "id": "d87d4027",
   "metadata": {},
   "source": [
    "### 14. OS, IO, files, and Google Drive"
   ]
  },
  {
   "cell_type": "code",
   "execution_count": 107,
   "id": "c9c3cc2c",
   "metadata": {},
   "outputs": [
    {
     "name": "stdout",
     "output_type": "stream",
     "text": [
      "d:\\LTT_DA\\Day2_Python_programming\n"
     ]
    }
   ],
   "source": [
    "import os\n",
    "\n",
    "cwd = os.getcwd()\n",
    "print(cwd)"
   ]
  },
  {
   "cell_type": "code",
   "execution_count": 108,
   "id": "657112bc",
   "metadata": {},
   "outputs": [
    {
     "data": {
      "text/plain": [
       "['day2_numpy_python101.ipynb',\n",
       " 'day2_python101.ipynb',\n",
       " 'myfile.txt',\n",
       " 'mymodule.py',\n",
       " '__pycache__']"
      ]
     },
     "execution_count": 108,
     "metadata": {},
     "output_type": "execute_result"
    }
   ],
   "source": [
    "os.listdir(cwd)"
   ]
  },
  {
   "cell_type": "code",
   "execution_count": 115,
   "id": "03313add",
   "metadata": {},
   "outputs": [
    {
     "name": "stdout",
     "output_type": "stream",
     "text": [
      "d:\\LTT_DA\\Day2_Python_programming\\sample_data\n"
     ]
    }
   ],
   "source": [
    "path = os.path.join(cwd,'sample_data')\n",
    "print(path)"
   ]
  },
  {
   "cell_type": "code",
   "execution_count": 122,
   "id": "25ad2519",
   "metadata": {},
   "outputs": [
    {
     "data": {
      "text/html": [
       "<a href='io_file_myday.txt' target='_blank'>io_file_myday.txt</a><br>"
      ],
      "text/plain": [
       "d:\\LTT_DA\\Day2_Python_programming\\io_file_myday.txt"
      ]
     },
     "metadata": {},
     "output_type": "display_data"
    },
    {
     "name": "stdout",
     "output_type": "stream",
     "text": [
      "Saved at: d:\\LTT_DA\\Day2_Python_programming\\io_file_myday.txt\n"
     ]
    }
   ],
   "source": [
    "from IPython.display import FileLink\n",
    "import os, time\n",
    "\n",
    "fname = \"io_file_myday.txt\"\n",
    "with open(fname, \"w\", encoding=\"utf-8\") as f:\n",
    "    f.write(\"Google Colab File Write Text some content Myday\")\n",
    "\n",
    "time.sleep(1)\n",
    "\n",
    "display(FileLink(fname))\n",
    "print(\"Saved at:\", os.path.abspath(fname))\n"
   ]
  },
  {
   "cell_type": "code",
   "execution_count": 123,
   "id": "5af658de",
   "metadata": {},
   "outputs": [
    {
     "name": "stdout",
     "output_type": "stream",
     "text": [
      "myfile.txt removed\n"
     ]
    }
   ],
   "source": [
    "import os\n",
    "if os.path.exists(\"myfile.txt\"):\n",
    "    os.remove(\"myfile.txt\")\n",
    "    print(\"myfile.txt removed\")\n",
    "else:\n",
    "    print(\"The file does not exist\")"
   ]
  },
  {
   "cell_type": "code",
   "execution_count": 124,
   "id": "eeb3f7d8",
   "metadata": {},
   "outputs": [
    {
     "data": {
      "text/plain": [
       "['day2_numpy_python101.ipynb',\n",
       " 'day2_python101.ipynb',\n",
       " 'io_file_myday.txt',\n",
       " 'mymodule.py',\n",
       " '__pycache__']"
      ]
     },
     "execution_count": 124,
     "metadata": {},
     "output_type": "execute_result"
    }
   ],
   "source": [
    "import os\n",
    "os.listdir()\n",
    "os.mkdir(\"myfolder1\")\n",
    "os.listdir()\n",
    "os.rmdir(\"myfolder1\")\n",
    "os.listdir()"
   ]
  },
  {
   "cell_type": "markdown",
   "id": "3c9a71ac",
   "metadata": {},
   "source": [
    "### 15. Try Except"
   ]
  },
  {
   "cell_type": "code",
   "execution_count": 125,
   "id": "c18946c1",
   "metadata": {},
   "outputs": [
    {
     "name": "stdout",
     "output_type": "stream",
     "text": [
      "(10, 20, 30, 40, 50)\n"
     ]
    }
   ],
   "source": [
    "#Python try except\n",
    "try:\n",
    "    print(x)\n",
    "except:\n",
    "    print(\"Exception Error\")"
   ]
  },
  {
   "cell_type": "code",
   "execution_count": 126,
   "id": "2b4c7046",
   "metadata": {},
   "outputs": [
    {
     "name": "stdout",
     "output_type": "stream",
     "text": [
      "Hello\n",
      "Finally process\n"
     ]
    }
   ],
   "source": [
    "#Python try except finally\n",
    "try:\n",
    "    print(\"Hello\")\n",
    "except:\n",
    "    print(\"Exception Error\")\n",
    "finally:\n",
    "    print(\"Finally process\")"
   ]
  },
  {
   "cell_type": "code",
   "execution_count": 127,
   "id": "3f089a1b",
   "metadata": {},
   "outputs": [
    {
     "name": "stdout",
     "output_type": "stream",
     "text": [
      "Hello\n",
      "No exception\n",
      "Finally process\n"
     ]
    }
   ],
   "source": [
    "try:\n",
    "    print(\"Hello\")\n",
    "except:\n",
    "    print(\"Exception Error\")\n",
    "else:\n",
    "    print(\"No exception\")\n",
    "finally:\n",
    "    print(\"Finally process\")"
   ]
  },
  {
   "cell_type": "code",
   "execution_count": 130,
   "id": "4889020c",
   "metadata": {},
   "outputs": [
    {
     "name": "stdout",
     "output_type": "stream",
     "text": [
      "The total value of the shares is: 20.0\n",
      "Thank you.\n"
     ]
    }
   ],
   "source": [
    "try:\n",
    "    price = float(input(\"Enter the price of the stock (e.g. 10):\"))\n",
    "    shares = int(input(\"Enter the number of shares (e.g. 2):\"))\n",
    "    total = price * shares\n",
    "except Exception as e:\n",
    "    print(\"Exception error:\", str(e))\n",
    "else:\n",
    "    print(\"The total value of the shares is:\", total)\n",
    "finally:\n",
    "    print(\"Thank you.\")"
   ]
  },
  {
   "cell_type": "code",
   "execution_count": 131,
   "id": "813174bd",
   "metadata": {},
   "outputs": [
    {
     "name": "stdout",
     "output_type": "stream",
     "text": [
      "Exception file Error\n"
     ]
    }
   ],
   "source": [
    "try:\n",
    "    file = open(\"myfile.txt\")\n",
    "    file.write(\"Python write file\")\n",
    "    print(\"file saved\")\n",
    "except:\n",
    "    print(\"Exception file Error\")"
   ]
  },
  {
   "cell_type": "code",
   "execution_count": 132,
   "id": "1c6ceaf2",
   "metadata": {},
   "outputs": [
    {
     "name": "stdout",
     "output_type": "stream",
     "text": [
      "Exception file Error\n",
      "Finally process\n"
     ]
    }
   ],
   "source": [
    "try:\n",
    "    file = open(\"myfile.txt\")\n",
    "    file.write(\"Python write file\")\n",
    "    print(\"file saved\")\n",
    "except:\n",
    "    print(\"Exception file Error\")\n",
    "finally:\n",
    "    file.close()\n",
    "    print(\"Finally process\")"
   ]
  },
  {
   "cell_type": "code",
   "execution_count": 134,
   "id": "5b6014d8",
   "metadata": {},
   "outputs": [
    {
     "name": "stdout",
     "output_type": "stream",
     "text": [
      "file saved\n",
      "Finally process\n"
     ]
    }
   ],
   "source": [
    "try:\n",
    "    file = open(\"myfile.txt\", 'w')\n",
    "    file.write(\"Python write file\")\n",
    "    print(\"file saved\")\n",
    "except:\n",
    "    print(\"Exception file Error\")\n",
    "finally:\n",
    "    file.close()\n",
    "    print(\"Finally process\")"
   ]
  },
  {
   "cell_type": "markdown",
   "id": "6f00ee36",
   "metadata": {},
   "source": [
    "## III. NumPy"
   ]
  },
  {
   "cell_type": "code",
   "execution_count": 3,
   "id": "1c696edf",
   "metadata": {},
   "outputs": [
    {
     "name": "stdout",
     "output_type": "stream",
     "text": [
      "[1, 2, 3, 4, 5]\n",
      "[1, 2, 3, 4, 5, 1, 2, 3, 4, 5]\n",
      "[1 2 3 4 5]\n",
      "[ 2  4  6  8 10]\n"
     ]
    }
   ],
   "source": [
    "v = list(range(1, 6))\n",
    "print(v)\n",
    "\n",
    "v2 = 2 * v\n",
    "print(v2)\n",
    "\n",
    "import numpy as np\n",
    "v = np.arange(1, 6)\n",
    "v2 = 2 * v\n",
    "print(v)\n",
    "print(v2)"
   ]
  },
  {
   "cell_type": "code",
   "execution_count": 4,
   "id": "fed2daac",
   "metadata": {},
   "outputs": [
    {
     "data": {
      "text/plain": [
       "array([ 4, 10, 18])"
      ]
     },
     "execution_count": 4,
     "metadata": {},
     "output_type": "execute_result"
    }
   ],
   "source": [
    "import numpy as np\n",
    "a = np.array([1, 2, 3])\n",
    "b = np.array([4, 5, 6])\n",
    "c = a * b\n",
    "c"
   ]
  },
  {
   "cell_type": "code",
   "execution_count": null,
   "id": "1c624f9a",
   "metadata": {},
   "outputs": [
    {
     "name": "stdout",
     "output_type": "stream",
     "text": [
      "[[ 0  1  2  3  4]\n",
      " [ 5  6  7  8  9]\n",
      " [10 11 12 13 14]]\n",
      "(3, 5)\n"
     ]
    },
    {
     "data": {
      "text/plain": [
       "'int64'"
      ]
     },
     "execution_count": 6,
     "metadata": {},
     "output_type": "execute_result"
    }
   ],
   "source": [
    "import numpy as np\n",
    "a = np.arange(15).reshape(3, 5)\n",
    "print(a)\n",
    "print(a.shape)\n",
    "a.ndim \n",
    "a.dtype.name # data type"
   ]
  },
  {
   "cell_type": "markdown",
   "metadata": {},
   "source": [
    "### 1. One-dimensional Array (1-D Array)"
   ]
  },
  {
   "cell_type": "code",
   "execution_count": 8,
   "id": "c364d690",
   "metadata": {},
   "outputs": [
    {
     "data": {
      "text/plain": [
       "array([1, 2, 3, 4, 5])"
      ]
     },
     "metadata": {},
     "output_type": "display_data"
    }
   ],
   "source": [
    "from IPython.display import display\n",
    "import numpy as np\n",
    "a = np.array([1,2,3,4,5])\n",
    "display(a)"
   ]
  },
  {
   "cell_type": "markdown",
   "id": "ed9437b3",
   "metadata": {},
   "source": [
    "### 2. Two-dimensional Array (2-D Array)"
   ]
  },
  {
   "cell_type": "code",
   "execution_count": 9,
   "id": "4aff470d",
   "metadata": {},
   "outputs": [
    {
     "data": {
      "text/plain": [
       "array([[ 1,  2,  3,  4,  5],\n",
       "       [ 6,  7,  8,  9, 10],\n",
       "       [11, 12, 13, 14, 15],\n",
       "       [16, 17, 18, 19, 20]])"
      ]
     },
     "metadata": {},
     "output_type": "display_data"
    }
   ],
   "source": [
    "a = np.array([[1,2,3,4,5],[6,7,8,9,10],[11,12,13,14,15],[16,17,18,19,20]])\n",
    "display(a)"
   ]
  },
  {
   "cell_type": "code",
   "execution_count": 10,
   "id": "4424381c",
   "metadata": {},
   "outputs": [
    {
     "data": {
      "text/plain": [
       "array([[ 0,  1,  2,  3],\n",
       "       [10, 11, 12, 13],\n",
       "       [20, 21, 22, 23]])"
      ]
     },
     "metadata": {},
     "output_type": "display_data"
    }
   ],
   "source": [
    "import numpy as np\n",
    "a = np.array([[0, 1, 2, 3],\n",
    "[10, 11, 12, 13],\n",
    "[20, 21, 22, 23]])\n",
    "display(a)"
   ]
  },
  {
   "cell_type": "code",
   "execution_count": 13,
   "id": "92c35119",
   "metadata": {},
   "outputs": [
    {
     "name": "stdout",
     "output_type": "stream",
     "text": [
      "[[ 0  1  2  3]\n",
      " [10 11 12 13]\n",
      " [20 21 22 23]]\n",
      "---------------------\n",
      "2\n",
      "---------------------\n",
      "(3, 4)\n"
     ]
    }
   ],
   "source": [
    "a = np.array([[0, 1, 2, 3], [10, 11, 12, 13], [20, 21, 22, 23]])\n",
    "print(a)\n",
    "print(\"---------------------\")\n",
    "print(a.ndim)\n",
    "print(\"---------------------\")\n",
    "print(a.shape)"
   ]
  },
  {
   "cell_type": "markdown",
   "metadata": {},
   "source": [
    "Phân biệt Scalar/Vector/Matrix/Tensor"
   ]
  },
  {
   "cell_type": "code",
   "execution_count": 23,
   "id": "7722356c",
   "metadata": {},
   "outputs": [
    {
     "name": "stdout",
     "output_type": "stream",
     "text": [
      "Scalar 80 <class 'int'>\n",
      "---------------------\n",
      "Vector [50, 60, 70] <class 'list'>\n",
      "---------------------\n",
      "Matrix [[50 60 70]\n",
      " [10 20 30]\n",
      " [14 15 16]] <class 'numpy.ndarray'>\n"
     ]
    }
   ],
   "source": [
    "a = 80  \n",
    "print(\"Scalar\", a, type(a))\n",
    "print(\"---------------------\")\n",
    "a = [50, 60, 70]\n",
    "print(\"Vector\", a, type(a))\n",
    "print(\"---------------------\")\n",
    "a = np.array([[50, 60, 70], [10, 20, 30], [14, 15, 16]])\n",
    "print(\"Matrix\", a, type(a))"
   ]
  },
  {
   "cell_type": "markdown",
   "id": "0ce45f37",
   "metadata": {},
   "source": [
    "## IV. Pandas"
   ]
  },
  {
   "cell_type": "markdown",
   "id": "2f3025d3",
   "metadata": {},
   "source": [
    "### 1. Series (1-dimensional)"
   ]
  },
  {
   "cell_type": "code",
   "execution_count": 24,
   "id": "28d6cfb9",
   "metadata": {},
   "outputs": [
    {
     "data": {
      "text/plain": [
       "0    1.0\n",
       "1    3.0\n",
       "2    5.0\n",
       "3    NaN\n",
       "4    6.0\n",
       "5    8.0\n",
       "dtype: float64"
      ]
     },
     "execution_count": 24,
     "metadata": {},
     "output_type": "execute_result"
    }
   ],
   "source": [
    "import pandas as pd\n",
    "s = pd.Series([1,3,5,np.nan,6,8])\n",
    "s"
   ]
  },
  {
   "cell_type": "markdown",
   "id": "8323d95e",
   "metadata": {},
   "source": [
    "### 2. DataFrame (2-dimensional)"
   ]
  },
  {
   "cell_type": "code",
   "execution_count": 28,
   "id": "ef365f97",
   "metadata": {},
   "outputs": [
    {
     "name": "stdout",
     "output_type": "stream",
     "text": [
      "   a  b   c\n",
      "1  4  7  10\n",
      "2  5  8  11\n",
      "3  6  9  12\n"
     ]
    },
    {
     "data": {
      "text/plain": [
       "pandas.core.frame.DataFrame"
      ]
     },
     "execution_count": 28,
     "metadata": {},
     "output_type": "execute_result"
    }
   ],
   "source": [
    "df = pd.DataFrame({\"a\": [4, 5, 6],\n",
    "\"b\": [7, 8, 9],\n",
    "\"c\": [10, 11, 12]},\n",
    "index = [1, 2, 3])\n",
    "print(df)\n",
    "type(df)"
   ]
  },
  {
   "cell_type": "code",
   "execution_count": 33,
   "id": "06828f48",
   "metadata": {},
   "outputs": [
    {
     "data": {
      "text/plain": [
       "DatetimeIndex(['2018-10-01', '2018-10-02', '2018-10-03', '2018-10-04',\n",
       "               '2018-10-05', '2018-10-06'],\n",
       "              dtype='datetime64[ns]', freq='D')"
      ]
     },
     "execution_count": 33,
     "metadata": {},
     "output_type": "execute_result"
    }
   ],
   "source": [
    "dates = pd.date_range('20181001', periods=6)\n",
    "dates"
   ]
  },
  {
   "cell_type": "code",
   "execution_count": 30,
   "id": "b7e893a4",
   "metadata": {},
   "outputs": [
    {
     "data": {
      "text/html": [
       "<div>\n",
       "<style scoped>\n",
       "    .dataframe tbody tr th:only-of-type {\n",
       "        vertical-align: middle;\n",
       "    }\n",
       "\n",
       "    .dataframe tbody tr th {\n",
       "        vertical-align: top;\n",
       "    }\n",
       "\n",
       "    .dataframe thead th {\n",
       "        text-align: right;\n",
       "    }\n",
       "</style>\n",
       "<table border=\"1\" class=\"dataframe\">\n",
       "  <thead>\n",
       "    <tr style=\"text-align: right;\">\n",
       "      <th></th>\n",
       "      <th>A</th>\n",
       "      <th>B</th>\n",
       "      <th>C</th>\n",
       "      <th>D</th>\n",
       "    </tr>\n",
       "  </thead>\n",
       "  <tbody>\n",
       "    <tr>\n",
       "      <th>2018-10-01</th>\n",
       "      <td>2.811763</td>\n",
       "      <td>2.333715</td>\n",
       "      <td>0.840324</td>\n",
       "      <td>-0.371646</td>\n",
       "    </tr>\n",
       "    <tr>\n",
       "      <th>2018-10-02</th>\n",
       "      <td>0.687629</td>\n",
       "      <td>-0.062236</td>\n",
       "      <td>0.201818</td>\n",
       "      <td>-0.039813</td>\n",
       "    </tr>\n",
       "    <tr>\n",
       "      <th>2018-10-03</th>\n",
       "      <td>-1.005098</td>\n",
       "      <td>0.349838</td>\n",
       "      <td>-1.463623</td>\n",
       "      <td>-0.537816</td>\n",
       "    </tr>\n",
       "    <tr>\n",
       "      <th>2018-10-04</th>\n",
       "      <td>0.379557</td>\n",
       "      <td>-0.315306</td>\n",
       "      <td>-1.871567</td>\n",
       "      <td>0.687871</td>\n",
       "    </tr>\n",
       "    <tr>\n",
       "      <th>2018-10-05</th>\n",
       "      <td>-0.559892</td>\n",
       "      <td>-0.540040</td>\n",
       "      <td>1.767788</td>\n",
       "      <td>1.322712</td>\n",
       "    </tr>\n",
       "    <tr>\n",
       "      <th>2018-10-06</th>\n",
       "      <td>1.367568</td>\n",
       "      <td>1.048925</td>\n",
       "      <td>0.611376</td>\n",
       "      <td>-0.295372</td>\n",
       "    </tr>\n",
       "  </tbody>\n",
       "</table>\n",
       "</div>"
      ],
      "text/plain": [
       "                   A         B         C         D\n",
       "2018-10-01  2.811763  2.333715  0.840324 -0.371646\n",
       "2018-10-02  0.687629 -0.062236  0.201818 -0.039813\n",
       "2018-10-03 -1.005098  0.349838 -1.463623 -0.537816\n",
       "2018-10-04  0.379557 -0.315306 -1.871567  0.687871\n",
       "2018-10-05 -0.559892 -0.540040  1.767788  1.322712\n",
       "2018-10-06  1.367568  1.048925  0.611376 -0.295372"
      ]
     },
     "execution_count": 30,
     "metadata": {},
     "output_type": "execute_result"
    }
   ],
   "source": [
    "df = pd.DataFrame(np.random.randn(6,4),\n",
    "index=dates, columns=list('ABCD'))\n",
    "df"
   ]
  },
  {
   "cell_type": "code",
   "execution_count": 31,
   "id": "b35f1f2d",
   "metadata": {},
   "outputs": [
    {
     "data": {
      "text/html": [
       "<div>\n",
       "<style scoped>\n",
       "    .dataframe tbody tr th:only-of-type {\n",
       "        vertical-align: middle;\n",
       "    }\n",
       "\n",
       "    .dataframe tbody tr th {\n",
       "        vertical-align: top;\n",
       "    }\n",
       "\n",
       "    .dataframe thead th {\n",
       "        text-align: right;\n",
       "    }\n",
       "</style>\n",
       "<table border=\"1\" class=\"dataframe\">\n",
       "  <thead>\n",
       "    <tr style=\"text-align: right;\">\n",
       "      <th></th>\n",
       "      <th>A</th>\n",
       "      <th>B</th>\n",
       "      <th>C</th>\n",
       "      <th>D</th>\n",
       "      <th>E</th>\n",
       "    </tr>\n",
       "  </thead>\n",
       "  <tbody>\n",
       "    <tr>\n",
       "      <th>student1</th>\n",
       "      <td>-0.596974</td>\n",
       "      <td>1.153019</td>\n",
       "      <td>-0.081494</td>\n",
       "      <td>-0.475007</td>\n",
       "      <td>0.190045</td>\n",
       "    </tr>\n",
       "    <tr>\n",
       "      <th>student2</th>\n",
       "      <td>-0.782579</td>\n",
       "      <td>0.318754</td>\n",
       "      <td>0.281728</td>\n",
       "      <td>0.004614</td>\n",
       "      <td>0.913252</td>\n",
       "    </tr>\n",
       "    <tr>\n",
       "      <th>student3</th>\n",
       "      <td>0.612640</td>\n",
       "      <td>0.547045</td>\n",
       "      <td>-0.035161</td>\n",
       "      <td>1.136277</td>\n",
       "      <td>0.890487</td>\n",
       "    </tr>\n",
       "  </tbody>\n",
       "</table>\n",
       "</div>"
      ],
      "text/plain": [
       "                 A         B         C         D         E\n",
       "student1 -0.596974  1.153019 -0.081494 -0.475007  0.190045\n",
       "student2 -0.782579  0.318754  0.281728  0.004614  0.913252\n",
       "student3  0.612640  0.547045 -0.035161  1.136277  0.890487"
      ]
     },
     "execution_count": 31,
     "metadata": {},
     "output_type": "execute_result"
    }
   ],
   "source": [
    "df = pd.DataFrame(np.random.randn(3,5),\n",
    "index=['student1','student2','student3']\n",
    ", columns=list('ABCDE'))\n",
    "df"
   ]
  },
  {
   "cell_type": "code",
   "execution_count": 32,
   "id": "16d27203",
   "metadata": {},
   "outputs": [
    {
     "data": {
      "text/html": [
       "<div>\n",
       "<style scoped>\n",
       "    .dataframe tbody tr th:only-of-type {\n",
       "        vertical-align: middle;\n",
       "    }\n",
       "\n",
       "    .dataframe tbody tr th {\n",
       "        vertical-align: top;\n",
       "    }\n",
       "\n",
       "    .dataframe thead th {\n",
       "        text-align: right;\n",
       "    }\n",
       "</style>\n",
       "<table border=\"1\" class=\"dataframe\">\n",
       "  <thead>\n",
       "    <tr style=\"text-align: right;\">\n",
       "      <th></th>\n",
       "      <th>A</th>\n",
       "      <th>B</th>\n",
       "      <th>C</th>\n",
       "      <th>D</th>\n",
       "      <th>E</th>\n",
       "      <th>F</th>\n",
       "    </tr>\n",
       "  </thead>\n",
       "  <tbody>\n",
       "    <tr>\n",
       "      <th>0</th>\n",
       "      <td>1.0</td>\n",
       "      <td>2018-10-01</td>\n",
       "      <td>2.5</td>\n",
       "      <td>3</td>\n",
       "      <td>test</td>\n",
       "      <td>foo</td>\n",
       "    </tr>\n",
       "    <tr>\n",
       "      <th>1</th>\n",
       "      <td>1.0</td>\n",
       "      <td>2018-10-01</td>\n",
       "      <td>2.5</td>\n",
       "      <td>3</td>\n",
       "      <td>train</td>\n",
       "      <td>foo</td>\n",
       "    </tr>\n",
       "    <tr>\n",
       "      <th>2</th>\n",
       "      <td>1.0</td>\n",
       "      <td>2018-10-01</td>\n",
       "      <td>2.5</td>\n",
       "      <td>3</td>\n",
       "      <td>test</td>\n",
       "      <td>foo</td>\n",
       "    </tr>\n",
       "    <tr>\n",
       "      <th>3</th>\n",
       "      <td>1.0</td>\n",
       "      <td>2018-10-01</td>\n",
       "      <td>2.5</td>\n",
       "      <td>3</td>\n",
       "      <td>train</td>\n",
       "      <td>foo</td>\n",
       "    </tr>\n",
       "  </tbody>\n",
       "</table>\n",
       "</div>"
      ],
      "text/plain": [
       "     A          B    C  D      E    F\n",
       "0  1.0 2018-10-01  2.5  3   test  foo\n",
       "1  1.0 2018-10-01  2.5  3  train  foo\n",
       "2  1.0 2018-10-01  2.5  3   test  foo\n",
       "3  1.0 2018-10-01  2.5  3  train  foo"
      ]
     },
     "execution_count": 32,
     "metadata": {},
     "output_type": "execute_result"
    }
   ],
   "source": [
    "df2 = pd.DataFrame({ 'A' : 1.,\n",
    "'B' : pd.Timestamp('20181001'),\n",
    "'C' : pd.Series(2.5,index=list(range(4)),dtype='float32'),\n",
    "'D' : np.array([3] * 4,dtype='int32'),\n",
    "'E' : pd.Categorical([\"test\",\"train\",\"test\",\"train\"]),\n",
    "'F' : 'foo' })\n",
    "df2"
   ]
  },
  {
   "cell_type": "code",
   "execution_count": 34,
   "id": "989e7e05",
   "metadata": {},
   "outputs": [
    {
     "data": {
      "text/plain": [
       "A          float64\n",
       "B    datetime64[s]\n",
       "C          float32\n",
       "D            int32\n",
       "E         category\n",
       "F           object\n",
       "dtype: object"
      ]
     },
     "execution_count": 34,
     "metadata": {},
     "output_type": "execute_result"
    }
   ],
   "source": [
    "df2.dtypes"
   ]
  },
  {
   "cell_type": "markdown",
   "id": "df61baea",
   "metadata": {},
   "source": [
    "Python Finance Application with Pandas"
   ]
  },
  {
   "cell_type": "code",
   "execution_count": 36,
   "id": "cc5a34b2",
   "metadata": {},
   "outputs": [
    {
     "name": "stdout",
     "output_type": "stream",
     "text": [
      "         Date Description Amount\n",
      "0  2023-11-01      Income   1000\n",
      "1  2023-11-02   Groceries   -200\n",
      "2  2023-11-03   Utilities   -100\n",
      "Current Balance: 700\n"
     ]
    }
   ],
   "source": [
    "import pandas as pd\n",
    "# Create a DataFrame to store transactions\n",
    "columns = ['Date', 'Description', 'Amount']\n",
    "ledger = pd.DataFrame(columns=columns)\n",
    "# Function to add a transaction\n",
    "def add_transaction(date, description, amount):\n",
    "    global ledger\n",
    "    new_transaction = pd.DataFrame([[date, description, amount]], columns=columns)\n",
    "    ledger = pd.concat([ledger, new_transaction], ignore_index=True)\n",
    "# Function to view the ledger\n",
    "def view_ledger():\n",
    "    print(ledger)\n",
    "# Function to get the current balance\n",
    "def get_balance():\n",
    "    return ledger['Amount'].sum()\n",
    "# Adding sample transactions\n",
    "add_transaction('2023-11-01', 'Income', 1000)\n",
    "add_transaction('2023-11-02', 'Groceries', -200)\n",
    "add_transaction('2023-11-03', 'Utilities', -100)\n",
    "# Viewing the ledger\n",
    "view_ledger()\n",
    "# Checking the current balance\n",
    "print(\"Current Balance:\", get_balance())"
   ]
  },
  {
   "cell_type": "markdown",
   "id": "09f84abd",
   "metadata": {},
   "source": [
    "## V. Visualization"
   ]
  },
  {
   "cell_type": "markdown",
   "id": "1782e806",
   "metadata": {},
   "source": [
    "### 1. Iris"
   ]
  },
  {
   "cell_type": "markdown",
   "id": "47f9708f",
   "metadata": {},
   "source": [
    "!{sys.executable} -m pip install -U seaborn matplotlib pandas|"
   ]
  },
  {
   "cell_type": "markdown",
   "id": "4c3e8807",
   "metadata": {},
   "source": [
    "!{sys.executable} -m pip install -U seaborn "
   ]
  },
  {
   "cell_type": "markdown",
   "id": "2982c86a",
   "metadata": {},
   "source": [
    "#### 1.1. Import"
   ]
  },
  {
   "cell_type": "code",
   "execution_count": 57,
   "id": "8a7f6be2",
   "metadata": {},
   "outputs": [],
   "source": [
    "import numpy as np\n",
    "import pandas as pd\n",
    "import matplotlib.pyplot as plt\n",
    "import seaborn as sns\n",
    "from pandas.plotting import scatter_matrix"
   ]
  },
  {
   "cell_type": "markdown",
   "id": "faf0f9c8",
   "metadata": {},
   "source": [
    "#### 1.2. Get data and show info "
   ]
  },
  {
   "cell_type": "code",
   "execution_count": 45,
   "id": "5383121d",
   "metadata": {},
   "outputs": [
    {
     "name": "stdout",
     "output_type": "stream",
     "text": [
      "   sepal-length  sepal-width  petal-length  petal-width        class\n",
      "0           5.1          3.5           1.4          0.2  Iris-setosa\n",
      "1           4.9          3.0           1.4          0.2  Iris-setosa\n",
      "2           4.7          3.2           1.3          0.2  Iris-setosa\n",
      "3           4.6          3.1           1.5          0.2  Iris-setosa\n",
      "4           5.0          3.6           1.4          0.2  Iris-setosa\n",
      "5           5.4          3.9           1.7          0.4  Iris-setosa\n",
      "6           4.6          3.4           1.4          0.3  Iris-setosa\n",
      "7           5.0          3.4           1.5          0.2  Iris-setosa\n",
      "8           4.4          2.9           1.4          0.2  Iris-setosa\n",
      "9           4.9          3.1           1.5          0.1  Iris-setosa\n"
     ]
    }
   ],
   "source": [
    "url = \"https://archive.ics.uci.edu/ml/machine-learning-databases/iris/iris.data\"\n",
    "names = ['sepal-length', 'sepal-width', 'petal-length', 'petal-width', 'class']\n",
    "df = pd.read_csv(url, names=names)\n",
    "print(df.head(10))"
   ]
  },
  {
   "cell_type": "code",
   "execution_count": 46,
   "id": "63316ad6",
   "metadata": {},
   "outputs": [
    {
     "data": {
      "text/html": [
       "<div>\n",
       "<style scoped>\n",
       "    .dataframe tbody tr th:only-of-type {\n",
       "        vertical-align: middle;\n",
       "    }\n",
       "\n",
       "    .dataframe tbody tr th {\n",
       "        vertical-align: top;\n",
       "    }\n",
       "\n",
       "    .dataframe thead th {\n",
       "        text-align: right;\n",
       "    }\n",
       "</style>\n",
       "<table border=\"1\" class=\"dataframe\">\n",
       "  <thead>\n",
       "    <tr style=\"text-align: right;\">\n",
       "      <th></th>\n",
       "      <th>sepal-length</th>\n",
       "      <th>sepal-width</th>\n",
       "      <th>petal-length</th>\n",
       "      <th>petal-width</th>\n",
       "      <th>class</th>\n",
       "    </tr>\n",
       "  </thead>\n",
       "  <tbody>\n",
       "    <tr>\n",
       "      <th>140</th>\n",
       "      <td>6.7</td>\n",
       "      <td>3.1</td>\n",
       "      <td>5.6</td>\n",
       "      <td>2.4</td>\n",
       "      <td>Iris-virginica</td>\n",
       "    </tr>\n",
       "    <tr>\n",
       "      <th>141</th>\n",
       "      <td>6.9</td>\n",
       "      <td>3.1</td>\n",
       "      <td>5.1</td>\n",
       "      <td>2.3</td>\n",
       "      <td>Iris-virginica</td>\n",
       "    </tr>\n",
       "    <tr>\n",
       "      <th>142</th>\n",
       "      <td>5.8</td>\n",
       "      <td>2.7</td>\n",
       "      <td>5.1</td>\n",
       "      <td>1.9</td>\n",
       "      <td>Iris-virginica</td>\n",
       "    </tr>\n",
       "    <tr>\n",
       "      <th>143</th>\n",
       "      <td>6.8</td>\n",
       "      <td>3.2</td>\n",
       "      <td>5.9</td>\n",
       "      <td>2.3</td>\n",
       "      <td>Iris-virginica</td>\n",
       "    </tr>\n",
       "    <tr>\n",
       "      <th>144</th>\n",
       "      <td>6.7</td>\n",
       "      <td>3.3</td>\n",
       "      <td>5.7</td>\n",
       "      <td>2.5</td>\n",
       "      <td>Iris-virginica</td>\n",
       "    </tr>\n",
       "    <tr>\n",
       "      <th>145</th>\n",
       "      <td>6.7</td>\n",
       "      <td>3.0</td>\n",
       "      <td>5.2</td>\n",
       "      <td>2.3</td>\n",
       "      <td>Iris-virginica</td>\n",
       "    </tr>\n",
       "    <tr>\n",
       "      <th>146</th>\n",
       "      <td>6.3</td>\n",
       "      <td>2.5</td>\n",
       "      <td>5.0</td>\n",
       "      <td>1.9</td>\n",
       "      <td>Iris-virginica</td>\n",
       "    </tr>\n",
       "    <tr>\n",
       "      <th>147</th>\n",
       "      <td>6.5</td>\n",
       "      <td>3.0</td>\n",
       "      <td>5.2</td>\n",
       "      <td>2.0</td>\n",
       "      <td>Iris-virginica</td>\n",
       "    </tr>\n",
       "    <tr>\n",
       "      <th>148</th>\n",
       "      <td>6.2</td>\n",
       "      <td>3.4</td>\n",
       "      <td>5.4</td>\n",
       "      <td>2.3</td>\n",
       "      <td>Iris-virginica</td>\n",
       "    </tr>\n",
       "    <tr>\n",
       "      <th>149</th>\n",
       "      <td>5.9</td>\n",
       "      <td>3.0</td>\n",
       "      <td>5.1</td>\n",
       "      <td>1.8</td>\n",
       "      <td>Iris-virginica</td>\n",
       "    </tr>\n",
       "  </tbody>\n",
       "</table>\n",
       "</div>"
      ],
      "text/plain": [
       "     sepal-length  sepal-width  petal-length  petal-width           class\n",
       "140           6.7          3.1           5.6          2.4  Iris-virginica\n",
       "141           6.9          3.1           5.1          2.3  Iris-virginica\n",
       "142           5.8          2.7           5.1          1.9  Iris-virginica\n",
       "143           6.8          3.2           5.9          2.3  Iris-virginica\n",
       "144           6.7          3.3           5.7          2.5  Iris-virginica\n",
       "145           6.7          3.0           5.2          2.3  Iris-virginica\n",
       "146           6.3          2.5           5.0          1.9  Iris-virginica\n",
       "147           6.5          3.0           5.2          2.0  Iris-virginica\n",
       "148           6.2          3.4           5.4          2.3  Iris-virginica\n",
       "149           5.9          3.0           5.1          1.8  Iris-virginica"
      ]
     },
     "execution_count": 46,
     "metadata": {},
     "output_type": "execute_result"
    }
   ],
   "source": [
    "df.tail(10)"
   ]
  },
  {
   "cell_type": "code",
   "execution_count": 47,
   "id": "24a1f9e1",
   "metadata": {},
   "outputs": [
    {
     "data": {
      "text/html": [
       "<div>\n",
       "<style scoped>\n",
       "    .dataframe tbody tr th:only-of-type {\n",
       "        vertical-align: middle;\n",
       "    }\n",
       "\n",
       "    .dataframe tbody tr th {\n",
       "        vertical-align: top;\n",
       "    }\n",
       "\n",
       "    .dataframe thead th {\n",
       "        text-align: right;\n",
       "    }\n",
       "</style>\n",
       "<table border=\"1\" class=\"dataframe\">\n",
       "  <thead>\n",
       "    <tr style=\"text-align: right;\">\n",
       "      <th></th>\n",
       "      <th>sepal-length</th>\n",
       "      <th>sepal-width</th>\n",
       "      <th>petal-length</th>\n",
       "      <th>petal-width</th>\n",
       "    </tr>\n",
       "  </thead>\n",
       "  <tbody>\n",
       "    <tr>\n",
       "      <th>count</th>\n",
       "      <td>150.000000</td>\n",
       "      <td>150.000000</td>\n",
       "      <td>150.000000</td>\n",
       "      <td>150.000000</td>\n",
       "    </tr>\n",
       "    <tr>\n",
       "      <th>mean</th>\n",
       "      <td>5.843333</td>\n",
       "      <td>3.054000</td>\n",
       "      <td>3.758667</td>\n",
       "      <td>1.198667</td>\n",
       "    </tr>\n",
       "    <tr>\n",
       "      <th>std</th>\n",
       "      <td>0.828066</td>\n",
       "      <td>0.433594</td>\n",
       "      <td>1.764420</td>\n",
       "      <td>0.763161</td>\n",
       "    </tr>\n",
       "    <tr>\n",
       "      <th>min</th>\n",
       "      <td>4.300000</td>\n",
       "      <td>2.000000</td>\n",
       "      <td>1.000000</td>\n",
       "      <td>0.100000</td>\n",
       "    </tr>\n",
       "    <tr>\n",
       "      <th>25%</th>\n",
       "      <td>5.100000</td>\n",
       "      <td>2.800000</td>\n",
       "      <td>1.600000</td>\n",
       "      <td>0.300000</td>\n",
       "    </tr>\n",
       "    <tr>\n",
       "      <th>50%</th>\n",
       "      <td>5.800000</td>\n",
       "      <td>3.000000</td>\n",
       "      <td>4.350000</td>\n",
       "      <td>1.300000</td>\n",
       "    </tr>\n",
       "    <tr>\n",
       "      <th>75%</th>\n",
       "      <td>6.400000</td>\n",
       "      <td>3.300000</td>\n",
       "      <td>5.100000</td>\n",
       "      <td>1.800000</td>\n",
       "    </tr>\n",
       "    <tr>\n",
       "      <th>max</th>\n",
       "      <td>7.900000</td>\n",
       "      <td>4.400000</td>\n",
       "      <td>6.900000</td>\n",
       "      <td>2.500000</td>\n",
       "    </tr>\n",
       "  </tbody>\n",
       "</table>\n",
       "</div>"
      ],
      "text/plain": [
       "       sepal-length  sepal-width  petal-length  petal-width\n",
       "count    150.000000   150.000000    150.000000   150.000000\n",
       "mean       5.843333     3.054000      3.758667     1.198667\n",
       "std        0.828066     0.433594      1.764420     0.763161\n",
       "min        4.300000     2.000000      1.000000     0.100000\n",
       "25%        5.100000     2.800000      1.600000     0.300000\n",
       "50%        5.800000     3.000000      4.350000     1.300000\n",
       "75%        6.400000     3.300000      5.100000     1.800000\n",
       "max        7.900000     4.400000      6.900000     2.500000"
      ]
     },
     "execution_count": 47,
     "metadata": {},
     "output_type": "execute_result"
    }
   ],
   "source": [
    "df.describe()"
   ]
  },
  {
   "cell_type": "code",
   "execution_count": 48,
   "id": "dc1904b4",
   "metadata": {},
   "outputs": [
    {
     "name": "stdout",
     "output_type": "stream",
     "text": [
      "<class 'pandas.core.frame.DataFrame'>\n",
      "RangeIndex: 150 entries, 0 to 149\n",
      "Data columns (total 5 columns):\n",
      " #   Column        Non-Null Count  Dtype  \n",
      "---  ------        --------------  -----  \n",
      " 0   sepal-length  150 non-null    float64\n",
      " 1   sepal-width   150 non-null    float64\n",
      " 2   petal-length  150 non-null    float64\n",
      " 3   petal-width   150 non-null    float64\n",
      " 4   class         150 non-null    object \n",
      "dtypes: float64(4), object(1)\n",
      "memory usage: 6.0+ KB\n",
      "None\n",
      "(150, 5)\n"
     ]
    }
   ],
   "source": [
    "print(df.info())\n",
    "print(df.shape)"
   ]
  },
  {
   "cell_type": "code",
   "execution_count": 62,
   "id": "0bbdddeb",
   "metadata": {},
   "outputs": [
    {
     "data": {
      "text/plain": [
       "class\n",
       "Iris-setosa        50\n",
       "Iris-versicolor    50\n",
       "Iris-virginica     50\n",
       "dtype: int64"
      ]
     },
     "execution_count": 62,
     "metadata": {},
     "output_type": "execute_result"
    }
   ],
   "source": [
    "df.groupby('class').size() # Check missing data"
   ]
  },
  {
   "cell_type": "markdown",
   "id": "7546cf03",
   "metadata": {},
   "source": [
    "#### 1.3. Check Outlier"
   ]
  },
  {
   "cell_type": "code",
   "execution_count": 58,
   "id": "14c8bda4",
   "metadata": {},
   "outputs": [
    {
     "data": {
      "image/png": "[encoded data removed]",
      "text/plain": [
       "<Figure size 1000x800 with 4 Axes>"
      ]
     },
     "metadata": {},
     "output_type": "display_data"
    }
   ],
   "source": [
    "plt.rcParams[\"figure.figsize\"] = (10,8)\n",
    "df.plot(kind='box', subplots=True, layout=(2,2), sharex=False, sharey=False)\n",
    "plt.show()"
   ]
  },
  {
   "cell_type": "markdown",
   "id": "8353ada7",
   "metadata": {},
   "source": [
    "#### 1.4. Chart historigram "
   ]
  },
  {
   "cell_type": "code",
   "execution_count": 59,
   "id": "f7c164dd",
   "metadata": {},
   "outputs": [
    {
     "data": {
      "image/png": "[encoded data removed]",
      "text/plain": [
       "<Figure size 1000x800 with 4 Axes>"
      ]
     },
     "metadata": {},
     "output_type": "display_data"
    }
   ],
   "source": [
    "df.hist()\n",
    "plt.show()"
   ]
  },
  {
   "cell_type": "markdown",
   "id": "5a3d87e5",
   "metadata": {},
   "source": [
    "#### 1.5. Chart Matrix "
   ]
  },
  {
   "cell_type": "code",
   "execution_count": 60,
   "id": "9466f409",
   "metadata": {},
   "outputs": [
    {
     "data": {
      "image/png": "[encoded data removed]",
      "text/plain": [
       "<Figure size 1000x800 with 16 Axes>"
      ]
     },
     "metadata": {},
     "output_type": "display_data"
    }
   ],
   "source": [
    "scatter_matrix(df)\n",
    "\n",
    "plt.show()"
   ]
  },
  {
   "cell_type": "markdown",
   "id": "d569b5f9",
   "metadata": {},
   "source": [
    "#### 1.6. Chart Seaborn "
   ]
  },
  {
   "cell_type": "code",
   "execution_count": 61,
   "id": "bab1a5b1",
   "metadata": {},
   "outputs": [
    {
     "name": "stderr",
     "output_type": "stream",
     "text": [
      "c:\\Users\\luong\\AppData\\Local\\Programs\\Python\\Python313\\Lib\\site-packages\\seaborn\\axisgrid.py:2100: UserWarning: The `size` parameter has been renamed to `height`; please update your code.\n",
      "  warnings.warn(msg, UserWarning)\n"
     ]
    },
    {
     "data": {
      "text/plain": [
       "<seaborn.axisgrid.PairGrid at 0x13c83f763c0>"
      ]
     },
     "execution_count": 61,
     "metadata": {},
     "output_type": "execute_result"
    },
    {
     "data": {
      "image/png": "[encoded data removed]",
      "text/plain": [
       "<Figure size 943x800 with 20 Axes>"
      ]
     },
     "metadata": {},
     "output_type": "display_data"
    }
   ],
   "source": [
    "sns.pairplot(df, hue=\"class\", size=2)"
   ]
  },
  {
   "cell_type": "markdown",
   "id": "d5e6506f",
   "metadata": {},
   "source": [
    "-- Ctrl + Shift + P => JupyterL: Export to HTML,..."
   ]
  },
  {
   "cell_type": "markdown",
   "id": "a1823c60",
   "metadata": {},
   "source": [
    "# END"
   ]
  }
 ],
 "metadata": {
  "kernelspec": {
   "display_name": "Python 3",
   "language": "python",
   "name": "python3"
  },
  "language_info": {
   "codemirror_mode": {
    "name": "ipython",
    "version": 3
   },
   "file_extension": ".py",
   "mimetype": "text/x-python",
   "name": "python",
   "nbconvert_exporter": "python",
   "pygments_lexer": "ipython3",
   "version": "3.13.1"
  }
 },
 "nbformat": 4,
 "nbformat_minor": 5
}
