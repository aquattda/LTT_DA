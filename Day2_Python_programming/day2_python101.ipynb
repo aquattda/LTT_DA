{
 "cells": [
  {
   "cell_type": "markdown",
   "id": "52f4cea6",
   "metadata": {},
   "source": [
    "# PYTHON PROGRAMMING"
   ]
  },
  {
   "cell_type": "markdown",
   "id": "64a415d0",
   "metadata": {},
   "source": [
    "## Python Hello World"
   ]
  },
  {
   "cell_type": "code",
   "execution_count": null,
   "id": "5423c5b5",
   "metadata": {},
   "outputs": [
    {
     "name": "stdout",
     "output_type": "stream",
     "text": [
      "Hello World\n"
     ]
    }
   ],
   "source": [
    "print(\"Hello World\") "
   ]
  },
  {
   "cell_type": "markdown",
   "id": "3ae7b5f6",
   "metadata": {},
   "source": [
    "## Python Syntax"
   ]
  },
  {
   "cell_type": "markdown",
   "id": "76c03758",
   "metadata": {},
   "source": [
    "### comment"
   ]
  },
  {
   "cell_type": "code",
   "execution_count": null,
   "id": "f6113661",
   "metadata": {},
   "outputs": [
    {
     "name": "stdout",
     "output_type": "stream",
     "text": [
      "Hello World\n"
     ]
    }
   ],
   "source": [
    "print(\"Hello World\") # This is comment not show when run"
   ]
  },
  {
   "cell_type": "markdown",
   "id": "ed37af7a",
   "metadata": {},
   "source": [
    "### Indentation"
   ]
  },
  {
   "cell_type": "markdown",
   "id": "ae37a5e2",
   "metadata": {},
   "source": []
  },
  {
   "cell_type": "markdown",
   "id": "87f31e7c",
   "metadata": {},
   "source": []
  },
  {
   "cell_type": "markdown",
   "id": "5c05d95c",
   "metadata": {},
   "source": []
  },
  {
   "cell_type": "markdown",
   "id": "e9b19384",
   "metadata": {},
   "source": []
  },
  {
   "cell_type": "markdown",
   "id": "9949e40d",
   "metadata": {},
   "source": []
  },
  {
   "cell_type": "markdown",
   "id": "604a33dc",
   "metadata": {},
   "source": []
  },
  {
   "cell_type": "markdown",
   "id": "da248ac8",
   "metadata": {},
   "source": []
  }
 ],
 "metadata": {
  "kernelspec": {
   "display_name": "Python 3",
   "language": "python",
   "name": "python3"
  },
  "language_info": {
   "codemirror_mode": {
    "name": "ipython",
    "version": 3
   },
   "file_extension": ".py",
   "mimetype": "text/x-python",
   "name": "python",
   "nbconvert_exporter": "python",
   "pygments_lexer": "ipython3",
   "version": "3.13.1"
  }
 },
 "nbformat": 4,
 "nbformat_minor": 5
}
