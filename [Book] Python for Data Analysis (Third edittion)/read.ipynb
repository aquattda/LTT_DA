{
 "cells": [
  {
   "cell_type": "markdown",
   "id": "8b3c5424",
   "metadata": {},
   "source": [
    "# [Book] Python for Data Analysis (Third edittion)"
   ]
  },
  {
   "cell_type": "markdown",
   "id": "48df67fa",
   "metadata": {},
   "source": [
    "## Chapter 1: Preliminaries."
   ]
  },
  {
   "cell_type": "markdown",
   "id": "f631d147",
   "metadata": {},
   "source": [
    "### 1.1 What Is This Book About?"
   ]
  },
  {
   "cell_type": "markdown",
   "id": "cb03c68e",
   "metadata": {},
   "source": [
    "### 1.2 Why Python for Data Analysis?"
   ]
  },
  {
   "cell_type": "markdown",
   "id": "47d26485",
   "metadata": {},
   "source": [
    "### 1.3 Essential Python Libraries"
   ]
  },
  {
   "cell_type": "markdown",
   "id": "4f855dbf",
   "metadata": {},
   "source": [
    "### 1.4 Installation and Setup"
   ]
  },
  {
   "cell_type": "markdown",
   "id": "65c1c4f0",
   "metadata": {},
   "source": [
    "### 1.5 Community and Conferences"
   ]
  },
  {
   "cell_type": "markdown",
   "id": "81a1ca7d",
   "metadata": {},
   "source": [
    "### 1.6 Navigating This Book"
   ]
  },
  {
   "cell_type": "markdown",
   "id": "d6129ebe",
   "metadata": {},
   "source": [
    "## Chapter 2: Python Language Basics, IPython, and Jupyter Notebooks"
   ]
  },
  {
   "cell_type": "markdown",
   "id": "0be4276c",
   "metadata": {},
   "source": [
    "## Chapter 3: Built-in Data Structures, Functions, and Files"
   ]
  },
  {
   "cell_type": "markdown",
   "id": "d7e693b6",
   "metadata": {},
   "source": [
    "## Chapter 4: NumPy Basics: Arrays and Vectorized Computation"
   ]
  },
  {
   "cell_type": "markdown",
   "id": "61ecdd71",
   "metadata": {},
   "source": [
    "## Chapter 5: Getting Started with pandas"
   ]
  },
  {
   "cell_type": "markdown",
   "id": "e86a2d46",
   "metadata": {},
   "source": [
    "## Chapter 6: Data Loading, Storage, and File Formats"
   ]
  },
  {
   "cell_type": "markdown",
   "id": "98939110",
   "metadata": {},
   "source": [
    "## Chapter 7: Data Cleaning and Preparation"
   ]
  },
  {
   "cell_type": "markdown",
   "id": "844cdc16",
   "metadata": {},
   "source": [
    "## Chapter 8: Data Wrangling: Join, Combine, and Reshape"
   ]
  },
  {
   "cell_type": "markdown",
   "id": "876f0aab",
   "metadata": {},
   "source": [
    "## Chapter 9: Plotting and Visualization"
   ]
  },
  {
   "cell_type": "markdown",
   "id": "bdb9bde5",
   "metadata": {},
   "source": [
    "## Chapter 10: Data Aggregation and Group Operations"
   ]
  },
  {
   "cell_type": "markdown",
   "id": "b4411836",
   "metadata": {},
   "source": [
    "## Chapter 11: Time Series"
   ]
  },
  {
   "cell_type": "markdown",
   "id": "ac796e3d",
   "metadata": {},
   "source": [
    "## Chapter 12: Introduction to Modeling Libraries in Python"
   ]
  }
 ],
 "metadata": {
  "language_info": {
   "name": "python"
  }
 },
 "nbformat": 4,
 "nbformat_minor": 5
}
