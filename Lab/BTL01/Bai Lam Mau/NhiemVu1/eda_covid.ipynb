{
 "cells": [
  {
   "cell_type": "markdown",
   "id": "29ab7e96",
   "metadata": {},
   "source": [
    "# Khám phá dữ liệu COVID"
   ]
  },
  {
   "cell_type": "markdown",
   "id": "70e33b7f",
   "metadata": {},
   "source": [
    "## Import libraries"
   ]
  },
  {
   "cell_type": "code",
   "execution_count": 2,
   "id": "159af33c",
   "metadata": {},
   "outputs": [],
   "source": [
    "import numpy as np\n",
    "import pandas as pd\n",
    "from scipy import stats # comment"
   ]
  },
  {
   "cell_type": "markdown",
   "id": "e8967307",
   "metadata": {},
   "source": [
    "## Load dataset"
   ]
  },
  {
   "cell_type": "code",
   "execution_count": 3,
   "id": "59f6baeb",
   "metadata": {},
   "outputs": [],
   "source": [
    "covid_data = pd.read_csv(\"owid-covid-data.csv\")"
   ]
  },
  {
   "cell_type": "code",
   "execution_count": 4,
   "id": "d3fae2cd",
   "metadata": {},
   "outputs": [],
   "source": [
    "covid_data = covid_data[['iso_code','continent',\n",
    "'location','date','total_cases','new_cases']]"
   ]
  },
  {
   "cell_type": "markdown",
   "id": "199695b7",
   "metadata": {
    "notebookRunGroups": {
     "groupValue": "1"
    }
   },
   "source": [
    "## Phân tích dữ liệu (Analyze data)"
   ]
  },
  {
   "cell_type": "markdown",
   "id": "fd6c0321",
   "metadata": {},
   "source": [
    "1) Dataset view"
   ]
  },
  {
   "cell_type": "code",
   "execution_count": null,
   "id": "0dce2e9b",
   "metadata": {},
   "outputs": [
    {
     "data": {
      "text/html": [
       "<div>\n",
       "<style scoped>\n",
       "    .dataframe tbody tr th:only-of-type {\n",
       "        vertical-align: middle;\n",
       "    }\n",
       "\n",
       "    .dataframe tbody tr th {\n",
       "        vertical-align: top;\n",
       "    }\n",
       "\n",
       "    .dataframe thead th {\n",
       "        text-align: right;\n",
       "    }\n",
       "</style>\n",
       "<table border=\"1\" class=\"dataframe\">\n",
       "  <thead>\n",
       "    <tr style=\"text-align: right;\">\n",
       "      <th></th>\n",
       "      <th>iso_code</th>\n",
       "      <th>continent</th>\n",
       "      <th>location</th>\n",
       "      <th>date</th>\n",
       "      <th>total_cases</th>\n",
       "      <th>new_cases</th>\n",
       "    </tr>\n",
       "  </thead>\n",
       "  <tbody>\n",
       "    <tr>\n",
       "      <th>0</th>\n",
       "      <td>AFG</td>\n",
       "      <td>Asia</td>\n",
       "      <td>Afghanistan</td>\n",
       "      <td>2020-01-05</td>\n",
       "      <td>0.0</td>\n",
       "      <td>0.0</td>\n",
       "    </tr>\n",
       "    <tr>\n",
       "      <th>1</th>\n",
       "      <td>AFG</td>\n",
       "      <td>Asia</td>\n",
       "      <td>Afghanistan</td>\n",
       "      <td>2020-01-06</td>\n",
       "      <td>0.0</td>\n",
       "      <td>0.0</td>\n",
       "    </tr>\n",
       "    <tr>\n",
       "      <th>2</th>\n",
       "      <td>AFG</td>\n",
       "      <td>Asia</td>\n",
       "      <td>Afghanistan</td>\n",
       "      <td>2020-01-07</td>\n",
       "      <td>0.0</td>\n",
       "      <td>0.0</td>\n",
       "    </tr>\n",
       "    <tr>\n",
       "      <th>3</th>\n",
       "      <td>AFG</td>\n",
       "      <td>Asia</td>\n",
       "      <td>Afghanistan</td>\n",
       "      <td>2020-01-08</td>\n",
       "      <td>0.0</td>\n",
       "      <td>0.0</td>\n",
       "    </tr>\n",
       "    <tr>\n",
       "      <th>4</th>\n",
       "      <td>AFG</td>\n",
       "      <td>Asia</td>\n",
       "      <td>Afghanistan</td>\n",
       "      <td>2020-01-09</td>\n",
       "      <td>0.0</td>\n",
       "      <td>0.0</td>\n",
       "    </tr>\n",
       "  </tbody>\n",
       "</table>\n",
       "</div>"
      ],
      "text/plain": [
       "  iso_code continent     location        date  total_cases  new_cases\n",
       "0      AFG      Asia  Afghanistan  2020-01-05          0.0        0.0\n",
       "1      AFG      Asia  Afghanistan  2020-01-06          0.0        0.0\n",
       "2      AFG      Asia  Afghanistan  2020-01-07          0.0        0.0\n",
       "3      AFG      Asia  Afghanistan  2020-01-08          0.0        0.0\n",
       "4      AFG      Asia  Afghanistan  2020-01-09          0.0        0.0"
      ]
     },
     "execution_count": 9,
     "metadata": {},
     "output_type": "execute_result"
    }
   ],
   "source": [
    "covid_data.head()"
   ]
  },
  {
   "cell_type": "markdown",
   "id": "42e0dbca",
   "metadata": {},
   "source": [
    "2) Data type"
   ]
  },
  {
   "cell_type": "code",
   "execution_count": 8,
   "id": "739ec2c1",
   "metadata": {},
   "outputs": [
    {
     "data": {
      "text/plain": [
       "iso_code        object\n",
       "continent       object\n",
       "location        object\n",
       "date            object\n",
       "total_cases    float64\n",
       "new_cases      float64\n",
       "dtype: object"
      ]
     },
     "execution_count": 8,
     "metadata": {},
     "output_type": "execute_result"
    }
   ],
   "source": [
    "covid_data.dtypes"
   ]
  },
  {
   "cell_type": "markdown",
   "id": "1c88f9eb",
   "metadata": {},
   "source": [
    "3) Shape"
   ]
  },
  {
   "cell_type": "code",
   "execution_count": 10,
   "id": "51c12aab",
   "metadata": {},
   "outputs": [
    {
     "data": {
      "text/plain": [
       "(429435, 6)"
      ]
     },
     "execution_count": 10,
     "metadata": {},
     "output_type": "execute_result"
    }
   ],
   "source": [
    "covid_data.shape"
   ]
  },
  {
   "cell_type": "markdown",
   "id": "ef542f24",
   "metadata": {},
   "source": [
    "- Bộ dữ liệu bao gồm 429435 dòng và 6 cột"
   ]
  },
  {
   "cell_type": "markdown",
   "id": "73c09765",
   "metadata": {},
   "source": [
    "4) Tính toán trên dữ liệu"
   ]
  },
  {
   "cell_type": "markdown",
   "id": "ef8bf08b",
   "metadata": {},
   "source": [
    "Mean"
   ]
  },
  {
   "cell_type": "code",
   "execution_count": 28,
   "id": "3cc7e626",
   "metadata": {},
   "outputs": [
    {
     "data": {
      "text/plain": [
       "8017.359933586731"
      ]
     },
     "execution_count": 28,
     "metadata": {},
     "output_type": "execute_result"
    }
   ],
   "source": [
    "data_mean = np.mean(covid_data[\"new_cases\"])\n",
    "data_mean"
   ]
  },
  {
   "cell_type": "markdown",
   "id": "4e75cdfb",
   "metadata": {},
   "source": [
    "Median"
   ]
  },
  {
   "cell_type": "code",
   "execution_count": 33,
   "id": "305a0ead",
   "metadata": {},
   "outputs": [
    {
     "data": {
      "text/plain": [
       "nan"
      ]
     },
     "execution_count": 33,
     "metadata": {},
     "output_type": "execute_result"
    }
   ],
   "source": [
    "data_median = np.median(covid_data[\"new_cases\"])\n",
    "data_median"
   ]
  },
  {
   "cell_type": "markdown",
   "id": "7f0ac3d6",
   "metadata": {},
   "source": [
    "- Median = NaN, có thể do tính median bằng NumPy (chỉ cần có NaN thì kết quả sẽ NaN)\n",
    "- Thay thế bằng Pandas hoặc dùng hàm median()"
   ]
  },
  {
   "cell_type": "code",
   "execution_count": 36,
   "id": "cf7efe04",
   "metadata": {},
   "outputs": [
    {
     "data": {
      "text/plain": [
       "0.0"
      ]
     },
     "metadata": {},
     "output_type": "display_data"
    },
    {
     "data": {
      "text/plain": [
       "0.0"
      ]
     },
     "metadata": {},
     "output_type": "display_data"
    }
   ],
   "source": [
    "# using pandas\n",
    "data_median_pd = pd.Series(covid_data[\"new_cases\"]).median()\n",
    "display(data_median_pd)\n",
    "# using median method\n",
    "data_median_m = covid_data[\"new_cases\"].median()\n",
    "display(data_median_m)\n"
   ]
  },
  {
   "cell_type": "code",
   "execution_count": 37,
   "id": "8dc0dc5d",
   "metadata": {},
   "outputs": [
    {
     "data": {
      "text/plain": [
       "368385"
      ]
     },
     "execution_count": 37,
     "metadata": {},
     "output_type": "execute_result"
    }
   ],
   "source": [
    "# Check why median = 0 ?\n",
    "(covid_data[\"new_cases\"] == 0).sum()"
   ]
  },
  {
   "cell_type": "markdown",
   "id": "cacc4c46",
   "metadata": {},
   "source": [
    "- Giá trị hợp lý vì số lượng 0 quá lớn"
   ]
  },
  {
   "cell_type": "markdown",
   "id": "a38febf0",
   "metadata": {},
   "source": [
    "Mode (Cho biết giá trị nào xuất hiện nhiều nhất trong dataset)"
   ]
  },
  {
   "cell_type": "code",
   "execution_count": 38,
   "id": "6b5a11e4",
   "metadata": {},
   "outputs": [
    {
     "data": {
      "text/plain": [
       "ModeResult(mode=0.0, count=368385)"
      ]
     },
     "execution_count": 38,
     "metadata": {},
     "output_type": "execute_result"
    }
   ],
   "source": [
    "data_mode = stats.mode(covid_data[\"new_cases\"])\n",
    "data_mode"
   ]
  },
  {
   "cell_type": "markdown",
   "id": "2d979503",
   "metadata": {},
   "source": [
    "Variance (Phương sai) </br>\n",
    "var(ddof=0) => Phương sai tổng </br>\n",
    "var(ddof=1) => Phương sai mẫu (recommended) </br>\n",
    "var(ddof=0) => Độ lệch chuẩn mẫu"
   ]
  },
  {
   "cell_type": "code",
   "execution_count": 39,
   "id": "bc54ba64",
   "metadata": {},
   "outputs": [
    {
     "data": {
      "text/plain": [
       "52745822411.38847"
      ]
     },
     "execution_count": 39,
     "metadata": {},
     "output_type": "execute_result"
    }
   ],
   "source": [
    "data_variance = np.var(covid_data[\"new_cases\"])\n",
    "data_variance"
   ]
  },
  {
   "cell_type": "markdown",
   "id": "752ca8fd",
   "metadata": {},
   "source": [
    "- Phương sai lớn do bùng nổ số ca mắc bệnh"
   ]
  },
  {
   "cell_type": "markdown",
   "id": "1f5f6071",
   "metadata": {},
   "source": [
    "Standard deviation (Độ lệch chuẩn)"
   ]
  },
  {
   "cell_type": "code",
   "execution_count": 40,
   "id": "a85e57fc",
   "metadata": {},
   "outputs": [
    {
     "data": {
      "text/plain": [
       "229664.58675944898"
      ]
     },
     "execution_count": 40,
     "metadata": {},
     "output_type": "execute_result"
    }
   ],
   "source": [
    "data_sd = np.std(covid_data[\"new_cases\"])\n",
    "data_sd"
   ]
  },
  {
   "cell_type": "markdown",
   "id": "51ad6865",
   "metadata": {},
   "source": [
    "=> Var dùng để tính, Std dùng để trình bày "
   ]
  },
  {
   "cell_type": "markdown",
   "id": "78b643d1",
   "metadata": {},
   "source": [
    "Maximum / Minimum"
   ]
  },
  {
   "cell_type": "code",
   "execution_count": 49,
   "id": "01efcf42",
   "metadata": {},
   "outputs": [
    {
     "data": {
      "text/plain": [
       "'Maximum: 44236227.0'"
      ]
     },
     "metadata": {},
     "output_type": "display_data"
    },
    {
     "data": {
      "text/plain": [
       "'Maximum: 0.0'"
      ]
     },
     "metadata": {},
     "output_type": "display_data"
    }
   ],
   "source": [
    "data_max = np.max(covid_data[\"new_cases\"])\n",
    "display(f\"Maximum: {data_max}\")\n",
    "data_min = np.min(covid_data[\"new_cases\"])\n",
    "display(f\"Maximum: {data_min}\")\n"
   ]
  },
  {
   "cell_type": "markdown",
   "id": "9a01d33f",
   "metadata": {},
   "source": [
    "Percentile (Phân vị), giá trị p% nhỏ hơn hoặc bằng mốc\n",
    "EX: \n",
    "- p50 (50th percentile) = median\n",
    "- p90 = 120 ca/ngày -> **90% ngày <= 120 ca**"
   ]
  },
  {
   "cell_type": "code",
   "execution_count": 51,
   "id": "93ee303b",
   "metadata": {},
   "outputs": [
    {
     "data": {
      "text/plain": [
       "nan"
      ]
     },
     "execution_count": 51,
     "metadata": {},
     "output_type": "execute_result"
    }
   ],
   "source": [
    "data_percentile = np.percentile(covid_data[\"new_cases\"],60)\n",
    "data_percentile"
   ]
  },
  {
   "cell_type": "markdown",
   "id": "36f4adfb",
   "metadata": {},
   "source": [
    "- Do tính bằng numpy nên có cột NaN sẽ luôn trả về Nan \n",
    "- Cần loại bỏ trước khi sử dụng numpy hoặc sử dụng pandas"
   ]
  },
  {
   "cell_type": "code",
   "execution_count": null,
   "id": "3e869d1e",
   "metadata": {},
   "outputs": [
    {
     "data": {
      "text/plain": [
       "0.0"
      ]
     },
     "metadata": {},
     "output_type": "display_data"
    },
    {
     "data": {
      "text/plain": [
       "1.0"
      ]
     },
     "metadata": {},
     "output_type": "display_data"
    }
   ],
   "source": [
    "# numpy dropna\n",
    "data_percentile = covid_data[\"new_cases\"].dropna()\n",
    "data_percentile_np = np.percentile(data_percentile, 60) # Or use quantile in numpy\n",
    "display(data_percentile_np)\n",
    "# pandas\n",
    "data_percentile_pd = covid_data[\"new_cases\"].quantile(0.9) # GIẢ SỬ P90\n",
    "display(data_percentile_pd)"
   ]
  },
  {
   "cell_type": "markdown",
   "id": "7d5a86bf",
   "metadata": {},
   "source": [
    "- Cho thấy p60 = 0.0, tức rằng có tới 60% ngày <= 0 ca bệnh\n",
    "- Cho thấy p90 = 1.0, tức rằng chỉ có 90% ngày  <= 1 ca bệnh -> 10% từ 2 ca trở lên"
   ]
  },
  {
   "cell_type": "markdown",
   "id": "c17ca1d5",
   "metadata": {},
   "source": [
    "IQR (Interquartile Range) -> tứ phân vị, đo độ phân tán p50\n",
    "- Công thức:\n",
    "   - IQR = Q3 (75th percentile) - Q1 (25th percentile)\n",
    "- Độ Spread:\n",
    "   - IQR upper => Dữ liệu p50 rộng\n",
    "   - IQR lower => Dữ liệu p50 hẹp\n",
    "- Outlier:\n",
    "   - lower fence = Q1 - 1.5 * IQR\n",
    "   - upper fence = Q3 + 1.5 * IQR </br>\n",
    "   => Nằm ngoài fence -> Outlier"
   ]
  },
  {
   "cell_type": "code",
   "execution_count": 75,
   "id": "4126fc37",
   "metadata": {},
   "outputs": [
    {
     "data": {
      "text/plain": [
       "0.0"
      ]
     },
     "execution_count": 75,
     "metadata": {},
     "output_type": "execute_result"
    }
   ],
   "source": [
    "data_IQR = stats.iqr(covid_data[\"new_cases\"].dropna())\n",
    "data_IQR"
   ]
  },
  {
   "cell_type": "markdown",
   "id": "815f38ee",
   "metadata": {},
   "source": [
    "# KẾT THÚC "
   ]
  }
 ],
 "metadata": {
  "kernelspec": {
   "display_name": "base",
   "language": "python",
   "name": "python3"
  },
  "language_info": {
   "codemirror_mode": {
    "name": "ipython",
    "version": 3
   },
   "file_extension": ".py",
   "mimetype": "text/x-python",
   "name": "python",
   "nbconvert_exporter": "python",
   "pygments_lexer": "ipython3",
   "version": "3.12.7"
  }
 },
 "nbformat": 4,
 "nbformat_minor": 5
}
